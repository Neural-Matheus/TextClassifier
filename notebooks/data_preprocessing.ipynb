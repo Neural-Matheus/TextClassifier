{
  "cells": [
    {
      "cell_type": "markdown",
      "metadata": {
        "id": "nG2GKIEK-y71"
      },
      "source": [
        "\n",
        "# **Importação do Drive com os arquivos**\n"
      ]
    },
    {
      "cell_type": "code",
      "execution_count": null,
      "metadata": {
        "colab": {
          "base_uri": "https://localhost:8080/"
        },
        "id": "8oBwJErH9nLP",
        "outputId": "8297ebcd-3ba9-4c60-adea-bc1cc9cdba86"
      },
      "outputs": [
        {
          "output_type": "stream",
          "name": "stdout",
          "text": [
            "Mounted at /content/drive\n"
          ]
        }
      ],
      "source": [
        "from google.colab import drive\n",
        "drive.mount('/content/drive')"
      ]
    },
    {
      "cell_type": "markdown",
      "metadata": {
        "id": "oTtkBwrdOYys"
      },
      "source": [
        "\n",
        "# **Importação inicial das bibliotecas**\n"
      ]
    },
    {
      "cell_type": "code",
      "execution_count": null,
      "metadata": {
        "id": "1Lx3HdKIOo15"
      },
      "outputs": [],
      "source": [
        "import torch\n",
        "import pandas as pd\n",
        "import numpy as np\n",
        "import tensorflow as tf\n",
        "import numpy as np\n",
        "import math\n",
        "import re\n",
        "import os\n",
        "import pandas as pd\n",
        "from bs4 import BeautifulSoup\n",
        "import random\n",
        "import seaborn as sns\n",
        "import matplotlib.pyplot as plt\n",
        "from google.colab import drive\n",
        "import matplotlib.pyplot as plt\n",
        "from nltk.sentiment.vader import SentimentIntensityAnalyzer"
      ]
    },
    {
      "cell_type": "code",
      "execution_count": null,
      "metadata": {
        "colab": {
          "base_uri": "https://localhost:8080/"
        },
        "id": "uNA1uJ2Srcwm",
        "outputId": "6a04d138-2258-4a7a-c789-0307fbe1e97a"
      },
      "outputs": [
        {
          "output_type": "stream",
          "name": "stdout",
          "text": [
            "Collecting bert-for-tf2\n",
            "  Downloading bert-for-tf2-0.14.9.tar.gz (41 kB)\n",
            "\u001b[2K     \u001b[90m━━━━━━━━━━━━━━━━━━━━━━━━━━━━━━━━━━━━━━━━\u001b[0m \u001b[32m41.2/41.2 kB\u001b[0m \u001b[31m867.5 kB/s\u001b[0m eta \u001b[36m0:00:00\u001b[0m\n",
            "\u001b[?25h  Preparing metadata (setup.py) ... \u001b[?25l\u001b[?25hdone\n",
            "Collecting py-params>=0.9.6 (from bert-for-tf2)\n",
            "  Downloading py-params-0.10.2.tar.gz (7.4 kB)\n",
            "  Preparing metadata (setup.py) ... \u001b[?25l\u001b[?25hdone\n",
            "Collecting params-flow>=0.8.0 (from bert-for-tf2)\n",
            "  Downloading params-flow-0.8.2.tar.gz (22 kB)\n",
            "  Preparing metadata (setup.py) ... \u001b[?25l\u001b[?25hdone\n",
            "Requirement already satisfied: numpy in /usr/local/lib/python3.10/dist-packages (from params-flow>=0.8.0->bert-for-tf2) (1.25.2)\n",
            "Requirement already satisfied: tqdm in /usr/local/lib/python3.10/dist-packages (from params-flow>=0.8.0->bert-for-tf2) (4.66.2)\n",
            "Building wheels for collected packages: bert-for-tf2, params-flow, py-params\n",
            "  Building wheel for bert-for-tf2 (setup.py) ... \u001b[?25l\u001b[?25hdone\n",
            "  Created wheel for bert-for-tf2: filename=bert_for_tf2-0.14.9-py3-none-any.whl size=30509 sha256=075094005a2a7733989c8d19230e06f3dbf1ec2911ed73645ea8a0778a7d3177\n",
            "  Stored in directory: /root/.cache/pip/wheels/d8/da/50/126d7b8416d9a0e6bf876935c2219a71e72a6529c25e150c56\n",
            "  Building wheel for params-flow (setup.py) ... \u001b[?25l\u001b[?25hdone\n",
            "  Created wheel for params-flow: filename=params_flow-0.8.2-py3-none-any.whl size=19454 sha256=e1308a79b6c46c188d5f22175fa23a7d3f20e2e06471e6c1b588975230b6d580\n",
            "  Stored in directory: /root/.cache/pip/wheels/97/a8/d0/f7419404174976a2686bb98b5c30df01cc71445415f32db9e6\n",
            "  Building wheel for py-params (setup.py) ... \u001b[?25l\u001b[?25hdone\n",
            "  Created wheel for py-params: filename=py_params-0.10.2-py3-none-any.whl size=7891 sha256=ff6f47d506460a491a2cbda4d540dc8518e21f918bc6f8890a2d79b6137f3464\n",
            "  Stored in directory: /root/.cache/pip/wheels/69/c8/b3/92666cff9fb312bc3473eaa6b396695b89a7b3e31e90876819\n",
            "Successfully built bert-for-tf2 params-flow py-params\n",
            "Installing collected packages: py-params, params-flow, bert-for-tf2\n",
            "Successfully installed bert-for-tf2-0.14.9 params-flow-0.8.2 py-params-0.10.2\n"
          ]
        }
      ],
      "source": [
        "!pip install bert-for-tf2"
      ]
    },
    {
      "cell_type": "code",
      "execution_count": null,
      "metadata": {
        "colab": {
          "base_uri": "https://localhost:8080/"
        },
        "id": "c50labuUEvoT",
        "outputId": "89e2a56f-eb04-40c9-ee7b-e1bcab023133"
      },
      "outputs": [
        {
          "output_type": "stream",
          "name": "stdout",
          "text": [
            "Requirement already satisfied: transformers in /usr/local/lib/python3.10/dist-packages (4.37.2)\n",
            "Requirement already satisfied: filelock in /usr/local/lib/python3.10/dist-packages (from transformers) (3.13.1)\n",
            "Requirement already satisfied: huggingface-hub<1.0,>=0.19.3 in /usr/local/lib/python3.10/dist-packages (from transformers) (0.20.3)\n",
            "Requirement already satisfied: numpy>=1.17 in /usr/local/lib/python3.10/dist-packages (from transformers) (1.25.2)\n",
            "Requirement already satisfied: packaging>=20.0 in /usr/local/lib/python3.10/dist-packages (from transformers) (23.2)\n",
            "Requirement already satisfied: pyyaml>=5.1 in /usr/local/lib/python3.10/dist-packages (from transformers) (6.0.1)\n",
            "Requirement already satisfied: regex!=2019.12.17 in /usr/local/lib/python3.10/dist-packages (from transformers) (2023.12.25)\n",
            "Requirement already satisfied: requests in /usr/local/lib/python3.10/dist-packages (from transformers) (2.31.0)\n",
            "Requirement already satisfied: tokenizers<0.19,>=0.14 in /usr/local/lib/python3.10/dist-packages (from transformers) (0.15.2)\n",
            "Requirement already satisfied: safetensors>=0.4.1 in /usr/local/lib/python3.10/dist-packages (from transformers) (0.4.2)\n",
            "Requirement already satisfied: tqdm>=4.27 in /usr/local/lib/python3.10/dist-packages (from transformers) (4.66.2)\n",
            "Requirement already satisfied: fsspec>=2023.5.0 in /usr/local/lib/python3.10/dist-packages (from huggingface-hub<1.0,>=0.19.3->transformers) (2023.6.0)\n",
            "Requirement already satisfied: typing-extensions>=3.7.4.3 in /usr/local/lib/python3.10/dist-packages (from huggingface-hub<1.0,>=0.19.3->transformers) (4.9.0)\n",
            "Requirement already satisfied: charset-normalizer<4,>=2 in /usr/local/lib/python3.10/dist-packages (from requests->transformers) (3.3.2)\n",
            "Requirement already satisfied: idna<4,>=2.5 in /usr/local/lib/python3.10/dist-packages (from requests->transformers) (3.6)\n",
            "Requirement already satisfied: urllib3<3,>=1.21.1 in /usr/local/lib/python3.10/dist-packages (from requests->transformers) (2.0.7)\n",
            "Requirement already satisfied: certifi>=2017.4.17 in /usr/local/lib/python3.10/dist-packages (from requests->transformers) (2024.2.2)\n"
          ]
        }
      ],
      "source": [
        "!pip install transformers"
      ]
    },
    {
      "cell_type": "code",
      "execution_count": null,
      "metadata": {
        "colab": {
          "base_uri": "https://localhost:8080/"
        },
        "id": "NKnvhW2Cre14",
        "outputId": "a1569413-81e3-47b5-fd8e-9f3ea0087c0f"
      },
      "outputs": [
        {
          "output_type": "stream",
          "name": "stdout",
          "text": [
            "Requirement already satisfied: sentencepiece in /usr/local/lib/python3.10/dist-packages (0.1.99)\n"
          ]
        }
      ],
      "source": [
        "!pip install sentencepiece"
      ]
    },
    {
      "cell_type": "code",
      "execution_count": null,
      "metadata": {
        "colab": {
          "base_uri": "https://localhost:8080/",
          "height": 949
        },
        "id": "tfJZbB_Dhkum",
        "outputId": "7f68edaf-8fd3-4365-ad3e-46f74bbc2604"
      },
      "outputs": [
        {
          "output_type": "stream",
          "name": "stdout",
          "text": [
            "Collecting googletrans==4.0.0-rc1\n",
            "  Downloading googletrans-4.0.0rc1.tar.gz (20 kB)\n",
            "  Preparing metadata (setup.py) ... \u001b[?25l\u001b[?25hdone\n",
            "Collecting httpx==0.13.3 (from googletrans==4.0.0-rc1)\n",
            "  Downloading httpx-0.13.3-py3-none-any.whl (55 kB)\n",
            "\u001b[2K     \u001b[90m━━━━━━━━━━━━━━━━━━━━━━━━━━━━━━━━━━━━━━━━\u001b[0m \u001b[32m55.1/55.1 kB\u001b[0m \u001b[31m3.3 MB/s\u001b[0m eta \u001b[36m0:00:00\u001b[0m\n",
            "\u001b[?25hRequirement already satisfied: certifi in /usr/local/lib/python3.10/dist-packages (from httpx==0.13.3->googletrans==4.0.0-rc1) (2024.2.2)\n",
            "Collecting hstspreload (from httpx==0.13.3->googletrans==4.0.0-rc1)\n",
            "  Downloading hstspreload-2024.2.1-py3-none-any.whl (1.1 MB)\n",
            "\u001b[2K     \u001b[90m━━━━━━━━━━━━━━━━━━━━━━━━━━━━━━━━━━━━━━━━\u001b[0m \u001b[32m1.1/1.1 MB\u001b[0m \u001b[31m10.9 MB/s\u001b[0m eta \u001b[36m0:00:00\u001b[0m\n",
            "\u001b[?25hRequirement already satisfied: sniffio in /usr/local/lib/python3.10/dist-packages (from httpx==0.13.3->googletrans==4.0.0-rc1) (1.3.0)\n",
            "Collecting chardet==3.* (from httpx==0.13.3->googletrans==4.0.0-rc1)\n",
            "  Downloading chardet-3.0.4-py2.py3-none-any.whl (133 kB)\n",
            "\u001b[2K     \u001b[90m━━━━━━━━━━━━━━━━━━━━━━━━━━━━━━━━━━━━━━━━\u001b[0m \u001b[32m133.4/133.4 kB\u001b[0m \u001b[31m12.5 MB/s\u001b[0m eta \u001b[36m0:00:00\u001b[0m\n",
            "\u001b[?25hCollecting idna==2.* (from httpx==0.13.3->googletrans==4.0.0-rc1)\n",
            "  Downloading idna-2.10-py2.py3-none-any.whl (58 kB)\n",
            "\u001b[2K     \u001b[90m━━━━━━━━━━━━━━━━━━━━━━━━━━━━━━━━━━━━━━━━\u001b[0m \u001b[32m58.8/58.8 kB\u001b[0m \u001b[31m6.5 MB/s\u001b[0m eta \u001b[36m0:00:00\u001b[0m\n",
            "\u001b[?25hCollecting rfc3986<2,>=1.3 (from httpx==0.13.3->googletrans==4.0.0-rc1)\n",
            "  Downloading rfc3986-1.5.0-py2.py3-none-any.whl (31 kB)\n",
            "Collecting httpcore==0.9.* (from httpx==0.13.3->googletrans==4.0.0-rc1)\n",
            "  Downloading httpcore-0.9.1-py3-none-any.whl (42 kB)\n",
            "\u001b[2K     \u001b[90m━━━━━━━━━━━━━━━━━━━━━━━━━━━━━━━━━━━━━━━━\u001b[0m \u001b[32m42.6/42.6 kB\u001b[0m \u001b[31m4.1 MB/s\u001b[0m eta \u001b[36m0:00:00\u001b[0m\n",
            "\u001b[?25hCollecting h11<0.10,>=0.8 (from httpcore==0.9.*->httpx==0.13.3->googletrans==4.0.0-rc1)\n",
            "  Downloading h11-0.9.0-py2.py3-none-any.whl (53 kB)\n",
            "\u001b[2K     \u001b[90m━━━━━━━━━━━━━━━━━━━━━━━━━━━━━━━━━━━━━━━━\u001b[0m \u001b[32m53.6/53.6 kB\u001b[0m \u001b[31m6.3 MB/s\u001b[0m eta \u001b[36m0:00:00\u001b[0m\n",
            "\u001b[?25hCollecting h2==3.* (from httpcore==0.9.*->httpx==0.13.3->googletrans==4.0.0-rc1)\n",
            "  Downloading h2-3.2.0-py2.py3-none-any.whl (65 kB)\n",
            "\u001b[2K     \u001b[90m━━━━━━━━━━━━━━━━━━━━━━━━━━━━━━━━━━━━━━━━\u001b[0m \u001b[32m65.0/65.0 kB\u001b[0m \u001b[31m7.5 MB/s\u001b[0m eta \u001b[36m0:00:00\u001b[0m\n",
            "\u001b[?25hCollecting hyperframe<6,>=5.2.0 (from h2==3.*->httpcore==0.9.*->httpx==0.13.3->googletrans==4.0.0-rc1)\n",
            "  Downloading hyperframe-5.2.0-py2.py3-none-any.whl (12 kB)\n",
            "Collecting hpack<4,>=3.0 (from h2==3.*->httpcore==0.9.*->httpx==0.13.3->googletrans==4.0.0-rc1)\n",
            "  Downloading hpack-3.0.0-py2.py3-none-any.whl (38 kB)\n",
            "Building wheels for collected packages: googletrans\n",
            "  Building wheel for googletrans (setup.py) ... \u001b[?25l\u001b[?25hdone\n",
            "  Created wheel for googletrans: filename=googletrans-4.0.0rc1-py3-none-any.whl size=17396 sha256=166c2e7cbd6e6286255185d63d11fe600db688fb87b3c8f0288c5d8244f1d6b3\n",
            "  Stored in directory: /root/.cache/pip/wheels/c0/59/9f/7372f0cf70160fe61b528532e1a7c8498c4becd6bcffb022de\n",
            "Successfully built googletrans\n",
            "Installing collected packages: rfc3986, hyperframe, hpack, h11, chardet, idna, hstspreload, h2, httpcore, httpx, googletrans\n",
            "  Attempting uninstall: chardet\n",
            "    Found existing installation: chardet 5.2.0\n",
            "    Uninstalling chardet-5.2.0:\n",
            "      Successfully uninstalled chardet-5.2.0\n",
            "  Attempting uninstall: idna\n",
            "    Found existing installation: idna 3.6\n",
            "    Uninstalling idna-3.6:\n",
            "      Successfully uninstalled idna-3.6\n",
            "Successfully installed chardet-3.0.4 googletrans-4.0.0rc1 h11-0.9.0 h2-3.2.0 hpack-3.0.0 hstspreload-2024.2.1 httpcore-0.9.1 httpx-0.13.3 hyperframe-5.2.0 idna-2.10 rfc3986-1.5.0\n"
          ]
        },
        {
          "output_type": "display_data",
          "data": {
            "application/vnd.colab-display-data+json": {
              "pip_warning": {
                "packages": [
                  "chardet",
                  "idna"
                ]
              }
            }
          },
          "metadata": {}
        }
      ],
      "source": [
        "!pip install googletrans==4.0.0-rc1"
      ]
    },
    {
      "cell_type": "code",
      "execution_count": null,
      "metadata": {
        "id": "uMj7QUn8rhsp"
      },
      "outputs": [],
      "source": [
        "import tensorflow_hub as hub"
      ]
    },
    {
      "cell_type": "code",
      "execution_count": null,
      "metadata": {
        "id": "81YIquo7rjzG"
      },
      "outputs": [],
      "source": [
        "from tensorflow.keras import layers\n",
        "import bert"
      ]
    },
    {
      "cell_type": "code",
      "execution_count": null,
      "metadata": {
        "colab": {
          "base_uri": "https://localhost:8080/",
          "height": 35
        },
        "id": "4Q4_EqONOzRL",
        "outputId": "8ec488b5-d0c0-4829-b5ac-cb4ed3884748"
      },
      "outputs": [
        {
          "output_type": "execute_result",
          "data": {
            "text/plain": [
              "'2.15.0'"
            ],
            "application/vnd.google.colaboratory.intrinsic+json": {
              "type": "string"
            }
          },
          "metadata": {},
          "execution_count": 9
        }
      ],
      "source": [
        "tf.__version__"
      ]
    },
    {
      "cell_type": "markdown",
      "metadata": {
        "id": "QQoPFyuRO1Nt"
      },
      "source": [
        "# **Part 1 - Data Preprocessing**\n"
      ]
    },
    {
      "cell_type": "markdown",
      "metadata": {
        "id": "C26XgDTU19pF"
      },
      "source": [
        "####Criação do DataFrame"
      ]
    },
    {
      "cell_type": "code",
      "execution_count": null,
      "metadata": {
        "id": "UJPMWocGm3g6"
      },
      "outputs": [],
      "source": [
        "def read_and_concatenate_dataframes(directory, new_column_name, value):\n",
        "    \"\"\"\n",
        "    Read JSONL files in the specified directory, add a new column to each DataFrame,\n",
        "    and concatenate all DataFrames into a single DataFrame.\n",
        "\n",
        "    Parameters:\n",
        "    - directory: The path to the directory containing JSONL files.\n",
        "    - new_column_name: The name of the new column to be added.\n",
        "    - value: The value to be assigned to the new column.\n",
        "\n",
        "    Returns:\n",
        "    A DataFrame containing all the concatenated data.\n",
        "    \"\"\"\n",
        "\n",
        "    data_frames_list = []\n",
        "\n",
        "    for file_name in os.listdir(directory):\n",
        "        if file_name.endswith('.jsonl'):\n",
        "            file_path = os.path.join(directory, file_name)\n",
        "\n",
        "            temp_df = pd.read_json(file_path, lines=True, encoding='latin1')\n",
        "\n",
        "            temp_df[new_column_name] = value\n",
        "\n",
        "            data_frames_list.append(temp_df)\n",
        "\n",
        "    result_df = pd.concat(data_frames_list, ignore_index=True)\n",
        "\n",
        "    return result_df\n",
        "\n",
        "directory_pathG = '/content/drive/MyDrive/opengpttext-clean/chatgpt'\n",
        "directory_pathH = '/content/drive/MyDrive/opengpttext-clean/openweb'\n",
        "new_column = 'value'\n",
        "\n",
        "data_gpt = read_and_concatenate_dataframes(directory_pathG, new_column, value=1)\n",
        "data_human = read_and_concatenate_dataframes(directory_pathH, new_column, value=0)"
      ]
    },
    {
      "cell_type": "code",
      "execution_count": null,
      "metadata": {
        "colab": {
          "base_uri": "https://localhost:8080/",
          "height": 424
        },
        "id": "zDB58D3nm62s",
        "outputId": "4b763176-4625-4745-8063-ebfb46455425"
      },
      "outputs": [
        {
          "data": {
            "application/vnd.google.colaboratory.intrinsic+json": {
              "summary": "{\n  \"name\": \"data_human\",\n  \"rows\": 29142,\n  \"fields\": [\n    {\n      \"column\": \"uid\",\n      \"properties\": {\n        \"dtype\": \"string\",\n        \"samples\": [\n          \"[urlsf_subset03]-[258473]\",\n          \"[urlsf_subset05]-[273886]\",\n          \"[urlsf_subset05]-[215814]\"\n        ],\n        \"num_unique_values\": 29142,\n        \"semantic_type\": \"\",\n        \"description\": \"\"\n      }\n    },\n    {\n      \"column\": \"text\",\n      \"properties\": {\n        \"dtype\": \"string\",\n        \"samples\": [\n          \"The Design\\nThe design features geometric artwork put together in an ornate fashion. The Millennium playing cards luxury edition features a beautiful deep blue back with gold features creating an elegant design. The cards will feature metallic inks to add to the luxury feel of the deck.\\nThe Millennium playing cards luxury edition will be a limited edition print with USPCC so grab them while you can.\\nThe handling\\nPrinted with USPCC\\nPremium paper stock\\npaper stock Linen finish (air cushion)\\nfinish (air cushion) Crushed stock\\nstock Traditionally cut (stretch goal)\\nThe face cards\\nThe face cards feature;\\nCustom pips\\nA custom pip layout to enhance spin moves\\nGold and blue recoloured USPCC court cards\\nA reduced pip index size to enhance fans and spreads\\nA backer card with all the backer's names who pledge over 6 decks\\nA duplicate 10 of clubs\\nCustom pips\\nCustom recoloured court cards\\nThe Joker is on the right\\nThe Tuck box\\nThe tuck box will features;\\nGeometric artwork reflecting the cards\\nreflecting the cards An elegant design\\nA matt stock (stretch goal)\\n(stretch goal) Gold foil (stretch goal)\\nThe tuck box\\nThe tuck box\\nThe tuck box\\nAIP (Anything is possible) bottles\\nMade by Jamie D. Grant. These will have sealed decks of Millennium playing cards inside. Limited to only 15 available.\\nCustom AIP bottle\\nThe Backer card\\nThe deck will have 2 jokers, a dupliate 10 of clubs and a backer card.\\nThe backer card will feature the names of all the pledgers who pledge for 6 decks or 2 uncut sheets or more. There are premium backers and normal backers, The premium backers will have their name's emphasised and larger than the rest as you can see below.\\nTo have your name put as a premium backer on the card you must pledge for the Ultimate backer perk or the early bird distributor perk.\\nThe Backer card\\nThis is a mock of the backer card which may change slightly in design.\\nUncut Sheets\\nThese are uncut sheets of playing cards straight off the press. They are perfect for displaying on the wall or as a piece of art to take out and admire.\\nAdd Ons\\nMillennium playing cards - US - PS9 per deck / Worldwide - PS10 per deck\\nMillennium playing cards uncut sheet - US - PS20 per sheet / Worldwide PS20 per sheet\\nSimply add the costs to your pledge and write in the survey we give you after the Kickstarter project what add-ons you pledged for. Eg. If you an extra deck and uncut sheet and you are not from the US add PS30 extra to your pledge.\\nStretch Goals\\nShipping\\nShipping will be fulfilled by the trusted company Gambler's Warehouse. Orders over 6 decks will have tracked shipping where available.\\nPictures\\nThe colours of the cards may vary from the pictures slightly but only for the better.\",\n          \"Find A Park > Crack Is Wack Playground\\nThis text is part of Parks' Historical Signs Project and can be found posted within the park.\\nCrack is Wack Playground earned its distinctive name after artist Keith Haring (1958-1990) painted the now-famous Crack Is Wack mural in 1986 on the handball court walls. The mural, done in Haring's signature style of thick black outlines, bright colors and intermingling, cartoon-like bodies, was painted to send a serious anti-drug message to the community.\\nKeith Haring was born in Reading, Pennsylvania, on May 4, 1958. His father, an amateur cartoonist, sparked his son's early interest in art. After high school, Haring enrolled in the Ivy School of Professional Art in Pittsburgh, but soon grew dissatisfied with the commercialism of his illustration and graphic design coursework. He withdrew from school and hitchhiked across the United States. He returned to Pittsburgh in 1976 where he became involved with the Pittsburgh Arts and Crafts Center and hosted his first art show at age 19.\\nRead More\",\n          \"I mentioned a couple of days ago that the Venezuelan government had decided to confiscate the stock of a toy wholesaler in that country just this couple of weeks before Christmas. The toys would be handed out for free to poor children because, well, because something. Not, absolutely not at all of course, in order to give the government something to crow about on TV in the run up to that lovely holiday. No, no, we know that politics does not work like that.\\nTwo senior officials at Kriesel, the largest importer of toys into the inflation-ravaged South American state, have been arrested as part of an ongoing investigation. They stand accused by Sundde of \\\"commiting a scam against the state\\\" by hoarding the toys to artificially inflate their worth, while claiming the goods were being stockpiled because \\\"children don't like these models.\\\"\\nIt is, of course, possible that an importer will buy the wrong thing and it will then end up sitting around in a warehouse. But the problem with these explanations is that they just don't work:\\nNational Public Radio said Kreisel was accused of creating a scarcity of toys to boost prices. Authorities charged that Kreisel used money acquired at a special government exchange rate to buy the products between 2008 and 2014. Stores complained, though, that the toy the distributor declined to fill their orders. \\\"The government claims that businessmen and traders hoard goods for long periods to speculate on prices,\\\" said the Local Committees of Supply and Production. \\\"Venezuela suffers the highest inflation in the world, estimated at 475 percent for 2016 by the IMF, and the currency lost 75 percent of its value against the so-called 'black dollar' since last September.\\\"\\nNot that we're hugely expecting NPR to get the economics of something right, let alone the Bolivarian socialists. But the point is that this just doesn't work. A company holding stock in a highly inflationary environment loses money, not makes it. Because you get charged your corporation tax (and yes, Venezuela does have one of them) on the difference between your costs and your revenues. But there is no inflation adjustment.\\nSo, let us say that they bought toys in 2008 at the then correct exchange rate of 2.5 or so bolivars to the dollar. They're now planning to sell them into the market and charge dollar prices translated at today's rate of perhaps 4,000 to the dollar. They've made whatever the normal profit margin is. But they've also made, according to accounting conventions, 20,000 % on the exchange rate. But they're really made nothing at all on that exchange rate. Because they need those bolivars to be able to go buy the next stock of toys to sell. Yet they must then pay corporation tax on that supposed 20,000 % profit.\\nHoarding by a corporation in a highly inflationary environment is a really, really, great way to lose money because of that tax system. And it's that tax which makes it so.\\nNow, of course, it's entirely possible that the toy importers don't know this and acted irrationally. It's also possible that the government of Venezuela doesn't understand enough economics to get this. And let's be honest about this, given the penury the Bolivarian socialists have plunged the country into who do you think is at fault here?\\nMy opinion is simply that the government itself is so ignorant of basic economics that they don't understand that corporate hoarding loses money in an inflationary environment. Along with all the other things they don't get about economics.\"\n        ],\n        \"num_unique_values\": 29142,\n        \"semantic_type\": \"\",\n        \"description\": \"\"\n      }\n    },\n    {\n      \"column\": \"value\",\n      \"properties\": {\n        \"dtype\": \"number\",\n        \"std\": 0,\n        \"min\": 0,\n        \"max\": 0,\n        \"samples\": [\n          0\n        ],\n        \"num_unique_values\": 1,\n        \"semantic_type\": \"\",\n        \"description\": \"\"\n      }\n    }\n  ]\n}",
              "type": "dataframe",
              "variable_name": "data_human"
            },
            "text/html": [
              "\n",
              "  <div id=\"df-d8ec7f53-af98-4809-9485-49bfcd76eb8b\" class=\"colab-df-container\">\n",
              "    <div>\n",
              "<style scoped>\n",
              "    .dataframe tbody tr th:only-of-type {\n",
              "        vertical-align: middle;\n",
              "    }\n",
              "\n",
              "    .dataframe tbody tr th {\n",
              "        vertical-align: top;\n",
              "    }\n",
              "\n",
              "    .dataframe thead th {\n",
              "        text-align: right;\n",
              "    }\n",
              "</style>\n",
              "<table border=\"1\" class=\"dataframe\">\n",
              "  <thead>\n",
              "    <tr style=\"text-align: right;\">\n",
              "      <th></th>\n",
              "      <th>uid</th>\n",
              "      <th>text</th>\n",
              "      <th>value</th>\n",
              "    </tr>\n",
              "  </thead>\n",
              "  <tbody>\n",
              "    <tr>\n",
              "      <th>0</th>\n",
              "      <td>[urlsf_subset04]-[69]</td>\n",
              "      <td>Image caption Phobos is the larger and closer ...</td>\n",
              "      <td>0</td>\n",
              "    </tr>\n",
              "    <tr>\n",
              "      <th>1</th>\n",
              "      <td>[urlsf_subset04]-[99]</td>\n",
              "      <td>WASHINGTON -- The United States military bombe...</td>\n",
              "      <td>0</td>\n",
              "    </tr>\n",
              "    <tr>\n",
              "      <th>2</th>\n",
              "      <td>[urlsf_subset04]-[167]</td>\n",
              "      <td>One of the more controversial topics involving...</td>\n",
              "      <td>0</td>\n",
              "    </tr>\n",
              "    <tr>\n",
              "      <th>3</th>\n",
              "      <td>[urlsf_subset04]-[191]</td>\n",
              "      <td>Image copyright Thinkstock Image caption The M...</td>\n",
              "      <td>0</td>\n",
              "    </tr>\n",
              "    <tr>\n",
              "      <th>4</th>\n",
              "      <td>[urlsf_subset04]-[269]</td>\n",
              "      <td>Books, books everywhere, but still not a page ...</td>\n",
              "      <td>0</td>\n",
              "    </tr>\n",
              "    <tr>\n",
              "      <th>...</th>\n",
              "      <td>...</td>\n",
              "      <td>...</td>\n",
              "      <td>...</td>\n",
              "    </tr>\n",
              "    <tr>\n",
              "      <th>29137</th>\n",
              "      <td>[urlsf_subset05]-[388786]</td>\n",
              "      <td>May 27, 2017\\nBy David Coletto\\nAs the Conserv...</td>\n",
              "      <td>0</td>\n",
              "    </tr>\n",
              "    <tr>\n",
              "      <th>29138</th>\n",
              "      <td>[urlsf_subset05]-[389233]</td>\n",
              "      <td>If Knicks president Phil Jackson wanted to tal...</td>\n",
              "      <td>0</td>\n",
              "    </tr>\n",
              "    <tr>\n",
              "      <th>29139</th>\n",
              "      <td>[urlsf_subset05]-[389455]</td>\n",
              "      <td>\"I fear a Man of frugal Speech...\" (543)\\nEmil...</td>\n",
              "      <td>0</td>\n",
              "    </tr>\n",
              "    <tr>\n",
              "      <th>29140</th>\n",
              "      <td>[urlsf_subset05]-[389598]</td>\n",
              "      <td>If Donald Trump actually cared about \"rigged\" ...</td>\n",
              "      <td>0</td>\n",
              "    </tr>\n",
              "    <tr>\n",
              "      <th>29141</th>\n",
              "      <td>[urlsf_subset05]-[389615]</td>\n",
              "      <td>Indonesian tribesman Muhammad Yusuf believes h...</td>\n",
              "      <td>0</td>\n",
              "    </tr>\n",
              "  </tbody>\n",
              "</table>\n",
              "<p>29142 rows × 3 columns</p>\n",
              "</div>\n",
              "    <div class=\"colab-df-buttons\">\n",
              "\n",
              "  <div class=\"colab-df-container\">\n",
              "    <button class=\"colab-df-convert\" onclick=\"convertToInteractive('df-d8ec7f53-af98-4809-9485-49bfcd76eb8b')\"\n",
              "            title=\"Convert this dataframe to an interactive table.\"\n",
              "            style=\"display:none;\">\n",
              "\n",
              "  <svg xmlns=\"http://www.w3.org/2000/svg\" height=\"24px\" viewBox=\"0 -960 960 960\">\n",
              "    <path d=\"M120-120v-720h720v720H120Zm60-500h600v-160H180v160Zm220 220h160v-160H400v160Zm0 220h160v-160H400v160ZM180-400h160v-160H180v160Zm440 0h160v-160H620v160ZM180-180h160v-160H180v160Zm440 0h160v-160H620v160Z\"/>\n",
              "  </svg>\n",
              "    </button>\n",
              "\n",
              "  <style>\n",
              "    .colab-df-container {\n",
              "      display:flex;\n",
              "      gap: 12px;\n",
              "    }\n",
              "\n",
              "    .colab-df-convert {\n",
              "      background-color: #E8F0FE;\n",
              "      border: none;\n",
              "      border-radius: 50%;\n",
              "      cursor: pointer;\n",
              "      display: none;\n",
              "      fill: #1967D2;\n",
              "      height: 32px;\n",
              "      padding: 0 0 0 0;\n",
              "      width: 32px;\n",
              "    }\n",
              "\n",
              "    .colab-df-convert:hover {\n",
              "      background-color: #E2EBFA;\n",
              "      box-shadow: 0px 1px 2px rgba(60, 64, 67, 0.3), 0px 1px 3px 1px rgba(60, 64, 67, 0.15);\n",
              "      fill: #174EA6;\n",
              "    }\n",
              "\n",
              "    .colab-df-buttons div {\n",
              "      margin-bottom: 4px;\n",
              "    }\n",
              "\n",
              "    [theme=dark] .colab-df-convert {\n",
              "      background-color: #3B4455;\n",
              "      fill: #D2E3FC;\n",
              "    }\n",
              "\n",
              "    [theme=dark] .colab-df-convert:hover {\n",
              "      background-color: #434B5C;\n",
              "      box-shadow: 0px 1px 3px 1px rgba(0, 0, 0, 0.15);\n",
              "      filter: drop-shadow(0px 1px 2px rgba(0, 0, 0, 0.3));\n",
              "      fill: #FFFFFF;\n",
              "    }\n",
              "  </style>\n",
              "\n",
              "    <script>\n",
              "      const buttonEl =\n",
              "        document.querySelector('#df-d8ec7f53-af98-4809-9485-49bfcd76eb8b button.colab-df-convert');\n",
              "      buttonEl.style.display =\n",
              "        google.colab.kernel.accessAllowed ? 'block' : 'none';\n",
              "\n",
              "      async function convertToInteractive(key) {\n",
              "        const element = document.querySelector('#df-d8ec7f53-af98-4809-9485-49bfcd76eb8b');\n",
              "        const dataTable =\n",
              "          await google.colab.kernel.invokeFunction('convertToInteractive',\n",
              "                                                    [key], {});\n",
              "        if (!dataTable) return;\n",
              "\n",
              "        const docLinkHtml = 'Like what you see? Visit the ' +\n",
              "          '<a target=\"_blank\" href=https://colab.research.google.com/notebooks/data_table.ipynb>data table notebook</a>'\n",
              "          + ' to learn more about interactive tables.';\n",
              "        element.innerHTML = '';\n",
              "        dataTable['output_type'] = 'display_data';\n",
              "        await google.colab.output.renderOutput(dataTable, element);\n",
              "        const docLink = document.createElement('div');\n",
              "        docLink.innerHTML = docLinkHtml;\n",
              "        element.appendChild(docLink);\n",
              "      }\n",
              "    </script>\n",
              "  </div>\n",
              "\n",
              "\n",
              "<div id=\"df-b030071e-2be5-45e3-947f-231c918698bf\">\n",
              "  <button class=\"colab-df-quickchart\" onclick=\"quickchart('df-b030071e-2be5-45e3-947f-231c918698bf')\"\n",
              "            title=\"Suggest charts\"\n",
              "            style=\"display:none;\">\n",
              "\n",
              "<svg xmlns=\"http://www.w3.org/2000/svg\" height=\"24px\"viewBox=\"0 0 24 24\"\n",
              "     width=\"24px\">\n",
              "    <g>\n",
              "        <path d=\"M19 3H5c-1.1 0-2 .9-2 2v14c0 1.1.9 2 2 2h14c1.1 0 2-.9 2-2V5c0-1.1-.9-2-2-2zM9 17H7v-7h2v7zm4 0h-2V7h2v10zm4 0h-2v-4h2v4z\"/>\n",
              "    </g>\n",
              "</svg>\n",
              "  </button>\n",
              "\n",
              "<style>\n",
              "  .colab-df-quickchart {\n",
              "      --bg-color: #E8F0FE;\n",
              "      --fill-color: #1967D2;\n",
              "      --hover-bg-color: #E2EBFA;\n",
              "      --hover-fill-color: #174EA6;\n",
              "      --disabled-fill-color: #AAA;\n",
              "      --disabled-bg-color: #DDD;\n",
              "  }\n",
              "\n",
              "  [theme=dark] .colab-df-quickchart {\n",
              "      --bg-color: #3B4455;\n",
              "      --fill-color: #D2E3FC;\n",
              "      --hover-bg-color: #434B5C;\n",
              "      --hover-fill-color: #FFFFFF;\n",
              "      --disabled-bg-color: #3B4455;\n",
              "      --disabled-fill-color: #666;\n",
              "  }\n",
              "\n",
              "  .colab-df-quickchart {\n",
              "    background-color: var(--bg-color);\n",
              "    border: none;\n",
              "    border-radius: 50%;\n",
              "    cursor: pointer;\n",
              "    display: none;\n",
              "    fill: var(--fill-color);\n",
              "    height: 32px;\n",
              "    padding: 0;\n",
              "    width: 32px;\n",
              "  }\n",
              "\n",
              "  .colab-df-quickchart:hover {\n",
              "    background-color: var(--hover-bg-color);\n",
              "    box-shadow: 0 1px 2px rgba(60, 64, 67, 0.3), 0 1px 3px 1px rgba(60, 64, 67, 0.15);\n",
              "    fill: var(--button-hover-fill-color);\n",
              "  }\n",
              "\n",
              "  .colab-df-quickchart-complete:disabled,\n",
              "  .colab-df-quickchart-complete:disabled:hover {\n",
              "    background-color: var(--disabled-bg-color);\n",
              "    fill: var(--disabled-fill-color);\n",
              "    box-shadow: none;\n",
              "  }\n",
              "\n",
              "  .colab-df-spinner {\n",
              "    border: 2px solid var(--fill-color);\n",
              "    border-color: transparent;\n",
              "    border-bottom-color: var(--fill-color);\n",
              "    animation:\n",
              "      spin 1s steps(1) infinite;\n",
              "  }\n",
              "\n",
              "  @keyframes spin {\n",
              "    0% {\n",
              "      border-color: transparent;\n",
              "      border-bottom-color: var(--fill-color);\n",
              "      border-left-color: var(--fill-color);\n",
              "    }\n",
              "    20% {\n",
              "      border-color: transparent;\n",
              "      border-left-color: var(--fill-color);\n",
              "      border-top-color: var(--fill-color);\n",
              "    }\n",
              "    30% {\n",
              "      border-color: transparent;\n",
              "      border-left-color: var(--fill-color);\n",
              "      border-top-color: var(--fill-color);\n",
              "      border-right-color: var(--fill-color);\n",
              "    }\n",
              "    40% {\n",
              "      border-color: transparent;\n",
              "      border-right-color: var(--fill-color);\n",
              "      border-top-color: var(--fill-color);\n",
              "    }\n",
              "    60% {\n",
              "      border-color: transparent;\n",
              "      border-right-color: var(--fill-color);\n",
              "    }\n",
              "    80% {\n",
              "      border-color: transparent;\n",
              "      border-right-color: var(--fill-color);\n",
              "      border-bottom-color: var(--fill-color);\n",
              "    }\n",
              "    90% {\n",
              "      border-color: transparent;\n",
              "      border-bottom-color: var(--fill-color);\n",
              "    }\n",
              "  }\n",
              "</style>\n",
              "\n",
              "  <script>\n",
              "    async function quickchart(key) {\n",
              "      const quickchartButtonEl =\n",
              "        document.querySelector('#' + key + ' button');\n",
              "      quickchartButtonEl.disabled = true;  // To prevent multiple clicks.\n",
              "      quickchartButtonEl.classList.add('colab-df-spinner');\n",
              "      try {\n",
              "        const charts = await google.colab.kernel.invokeFunction(\n",
              "            'suggestCharts', [key], {});\n",
              "      } catch (error) {\n",
              "        console.error('Error during call to suggestCharts:', error);\n",
              "      }\n",
              "      quickchartButtonEl.classList.remove('colab-df-spinner');\n",
              "      quickchartButtonEl.classList.add('colab-df-quickchart-complete');\n",
              "    }\n",
              "    (() => {\n",
              "      let quickchartButtonEl =\n",
              "        document.querySelector('#df-b030071e-2be5-45e3-947f-231c918698bf button');\n",
              "      quickchartButtonEl.style.display =\n",
              "        google.colab.kernel.accessAllowed ? 'block' : 'none';\n",
              "    })();\n",
              "  </script>\n",
              "</div>\n",
              "\n",
              "  <div id=\"id_d746f078-7ede-4a56-ba88-847f5b687446\">\n",
              "    <style>\n",
              "      .colab-df-generate {\n",
              "        background-color: #E8F0FE;\n",
              "        border: none;\n",
              "        border-radius: 50%;\n",
              "        cursor: pointer;\n",
              "        display: none;\n",
              "        fill: #1967D2;\n",
              "        height: 32px;\n",
              "        padding: 0 0 0 0;\n",
              "        width: 32px;\n",
              "      }\n",
              "\n",
              "      .colab-df-generate:hover {\n",
              "        background-color: #E2EBFA;\n",
              "        box-shadow: 0px 1px 2px rgba(60, 64, 67, 0.3), 0px 1px 3px 1px rgba(60, 64, 67, 0.15);\n",
              "        fill: #174EA6;\n",
              "      }\n",
              "\n",
              "      [theme=dark] .colab-df-generate {\n",
              "        background-color: #3B4455;\n",
              "        fill: #D2E3FC;\n",
              "      }\n",
              "\n",
              "      [theme=dark] .colab-df-generate:hover {\n",
              "        background-color: #434B5C;\n",
              "        box-shadow: 0px 1px 3px 1px rgba(0, 0, 0, 0.15);\n",
              "        filter: drop-shadow(0px 1px 2px rgba(0, 0, 0, 0.3));\n",
              "        fill: #FFFFFF;\n",
              "      }\n",
              "    </style>\n",
              "    <button class=\"colab-df-generate\" onclick=\"generateWithVariable('data_human')\"\n",
              "            title=\"Generate code using this dataframe.\"\n",
              "            style=\"display:none;\">\n",
              "\n",
              "  <svg xmlns=\"http://www.w3.org/2000/svg\" height=\"24px\"viewBox=\"0 0 24 24\"\n",
              "       width=\"24px\">\n",
              "    <path d=\"M7,19H8.4L18.45,9,17,7.55,7,17.6ZM5,21V16.75L18.45,3.32a2,2,0,0,1,2.83,0l1.4,1.43a1.91,1.91,0,0,1,.58,1.4,1.91,1.91,0,0,1-.58,1.4L9.25,21ZM18.45,9,17,7.55Zm-12,3A5.31,5.31,0,0,0,4.9,8.1,5.31,5.31,0,0,0,1,6.5,5.31,5.31,0,0,0,4.9,4.9,5.31,5.31,0,0,0,6.5,1,5.31,5.31,0,0,0,8.1,4.9,5.31,5.31,0,0,0,12,6.5,5.46,5.46,0,0,0,6.5,12Z\"/>\n",
              "  </svg>\n",
              "    </button>\n",
              "    <script>\n",
              "      (() => {\n",
              "      const buttonEl =\n",
              "        document.querySelector('#id_d746f078-7ede-4a56-ba88-847f5b687446 button.colab-df-generate');\n",
              "      buttonEl.style.display =\n",
              "        google.colab.kernel.accessAllowed ? 'block' : 'none';\n",
              "\n",
              "      buttonEl.onclick = () => {\n",
              "        google.colab.notebook.generateWithVariable('data_human');\n",
              "      }\n",
              "      })();\n",
              "    </script>\n",
              "  </div>\n",
              "\n",
              "    </div>\n",
              "  </div>\n"
            ],
            "text/plain": [
              "                             uid  \\\n",
              "0          [urlsf_subset04]-[69]   \n",
              "1          [urlsf_subset04]-[99]   \n",
              "2         [urlsf_subset04]-[167]   \n",
              "3         [urlsf_subset04]-[191]   \n",
              "4         [urlsf_subset04]-[269]   \n",
              "...                          ...   \n",
              "29137  [urlsf_subset05]-[388786]   \n",
              "29138  [urlsf_subset05]-[389233]   \n",
              "29139  [urlsf_subset05]-[389455]   \n",
              "29140  [urlsf_subset05]-[389598]   \n",
              "29141  [urlsf_subset05]-[389615]   \n",
              "\n",
              "                                                    text  value  \n",
              "0      Image caption Phobos is the larger and closer ...      0  \n",
              "1      WASHINGTON -- The United States military bombe...      0  \n",
              "2      One of the more controversial topics involving...      0  \n",
              "3      Image copyright Thinkstock Image caption The M...      0  \n",
              "4      Books, books everywhere, but still not a page ...      0  \n",
              "...                                                  ...    ...  \n",
              "29137  May 27, 2017\\nBy David Coletto\\nAs the Conserv...      0  \n",
              "29138  If Knicks president Phil Jackson wanted to tal...      0  \n",
              "29139  \"I fear a Man of frugal Speech...\" (543)\\nEmil...      0  \n",
              "29140  If Donald Trump actually cared about \"rigged\" ...      0  \n",
              "29141  Indonesian tribesman Muhammad Yusuf believes h...      0  \n",
              "\n",
              "[29142 rows x 3 columns]"
            ]
          },
          "execution_count": 10,
          "metadata": {},
          "output_type": "execute_result"
        }
      ],
      "source": [
        "data_human"
      ]
    },
    {
      "cell_type": "code",
      "execution_count": null,
      "metadata": {
        "colab": {
          "base_uri": "https://localhost:8080/",
          "height": 424
        },
        "id": "1rbKsvbCnjjB",
        "outputId": "87e40eac-5343-470a-ccf2-e56a2170b0d0"
      },
      "outputs": [
        {
          "data": {
            "text/html": [
              "\n",
              "  <div id=\"df-f9fbad44-0f23-4ffa-920a-d1435a63119a\" class=\"colab-df-container\">\n",
              "    <div>\n",
              "<style scoped>\n",
              "    .dataframe tbody tr th:only-of-type {\n",
              "        vertical-align: middle;\n",
              "    }\n",
              "\n",
              "    .dataframe tbody tr th {\n",
              "        vertical-align: top;\n",
              "    }\n",
              "\n",
              "    .dataframe thead th {\n",
              "        text-align: right;\n",
              "    }\n",
              "</style>\n",
              "<table border=\"1\" class=\"dataframe\">\n",
              "  <thead>\n",
              "    <tr style=\"text-align: right;\">\n",
              "      <th></th>\n",
              "      <th>uid</th>\n",
              "      <th>text</th>\n",
              "      <th>value</th>\n",
              "    </tr>\n",
              "  </thead>\n",
              "  <tbody>\n",
              "    <tr>\n",
              "      <th>0</th>\n",
              "      <td>[urlsf_subset01]-[362358]</td>\n",
              "      <td>The US is to review its military support for S...</td>\n",
              "      <td>1</td>\n",
              "    </tr>\n",
              "    <tr>\n",
              "      <th>1</th>\n",
              "      <td>[urlsf_subset01]-[116340]</td>\n",
              "      <td>Some game developers are seeking inspiration f...</td>\n",
              "      <td>1</td>\n",
              "    </tr>\n",
              "    <tr>\n",
              "      <th>2</th>\n",
              "      <td>[urlsf_subset01]-[299487]</td>\n",
              "      <td>IntercontinentalExchange's acquisition of the ...</td>\n",
              "      <td>1</td>\n",
              "    </tr>\n",
              "    <tr>\n",
              "      <th>3</th>\n",
              "      <td>[urlsf_subset01]-[137018]</td>\n",
              "      <td>According to research from The University of W...</td>\n",
              "      <td>1</td>\n",
              "    </tr>\n",
              "    <tr>\n",
              "      <th>4</th>\n",
              "      <td>[urlsf_subset01]-[302038]</td>\n",
              "      <td>The Davao City Council has declared comedian R...</td>\n",
              "      <td>1</td>\n",
              "    </tr>\n",
              "    <tr>\n",
              "      <th>...</th>\n",
              "      <td>...</td>\n",
              "      <td>...</td>\n",
              "      <td>...</td>\n",
              "    </tr>\n",
              "    <tr>\n",
              "      <th>29390</th>\n",
              "      <td>[urlsf_subset05]-[141028]</td>\n",
              "      <td>The article \"Creative underexposure with a Nik...</td>\n",
              "      <td>1</td>\n",
              "    </tr>\n",
              "    <tr>\n",
              "      <th>29391</th>\n",
              "      <td>[urlsf_subset05]-[49964]</td>\n",
              "      <td>The special education services that New York S...</td>\n",
              "      <td>1</td>\n",
              "    </tr>\n",
              "    <tr>\n",
              "      <th>29392</th>\n",
              "      <td>[urlsf_subset05]-[116459]</td>\n",
              "      <td>During the third week of the trial, two opposi...</td>\n",
              "      <td>1</td>\n",
              "    </tr>\n",
              "    <tr>\n",
              "      <th>29393</th>\n",
              "      <td>[urlsf_subset05]-[67867]</td>\n",
              "      <td>Mogwai Young Team, the debut studio album by S...</td>\n",
              "      <td>1</td>\n",
              "    </tr>\n",
              "    <tr>\n",
              "      <th>29394</th>\n",
              "      <td>[urlsf_subset05]-[235583]</td>\n",
              "      <td>I love meeting people in conservation - they'r...</td>\n",
              "      <td>1</td>\n",
              "    </tr>\n",
              "  </tbody>\n",
              "</table>\n",
              "<p>29395 rows × 3 columns</p>\n",
              "</div>\n",
              "    <div class=\"colab-df-buttons\">\n",
              "\n",
              "  <div class=\"colab-df-container\">\n",
              "    <button class=\"colab-df-convert\" onclick=\"convertToInteractive('df-f9fbad44-0f23-4ffa-920a-d1435a63119a')\"\n",
              "            title=\"Convert this dataframe to an interactive table.\"\n",
              "            style=\"display:none;\">\n",
              "\n",
              "  <svg xmlns=\"http://www.w3.org/2000/svg\" height=\"24px\" viewBox=\"0 -960 960 960\">\n",
              "    <path d=\"M120-120v-720h720v720H120Zm60-500h600v-160H180v160Zm220 220h160v-160H400v160Zm0 220h160v-160H400v160ZM180-400h160v-160H180v160Zm440 0h160v-160H620v160ZM180-180h160v-160H180v160Zm440 0h160v-160H620v160Z\"/>\n",
              "  </svg>\n",
              "    </button>\n",
              "\n",
              "  <style>\n",
              "    .colab-df-container {\n",
              "      display:flex;\n",
              "      gap: 12px;\n",
              "    }\n",
              "\n",
              "    .colab-df-convert {\n",
              "      background-color: #E8F0FE;\n",
              "      border: none;\n",
              "      border-radius: 50%;\n",
              "      cursor: pointer;\n",
              "      display: none;\n",
              "      fill: #1967D2;\n",
              "      height: 32px;\n",
              "      padding: 0 0 0 0;\n",
              "      width: 32px;\n",
              "    }\n",
              "\n",
              "    .colab-df-convert:hover {\n",
              "      background-color: #E2EBFA;\n",
              "      box-shadow: 0px 1px 2px rgba(60, 64, 67, 0.3), 0px 1px 3px 1px rgba(60, 64, 67, 0.15);\n",
              "      fill: #174EA6;\n",
              "    }\n",
              "\n",
              "    .colab-df-buttons div {\n",
              "      margin-bottom: 4px;\n",
              "    }\n",
              "\n",
              "    [theme=dark] .colab-df-convert {\n",
              "      background-color: #3B4455;\n",
              "      fill: #D2E3FC;\n",
              "    }\n",
              "\n",
              "    [theme=dark] .colab-df-convert:hover {\n",
              "      background-color: #434B5C;\n",
              "      box-shadow: 0px 1px 3px 1px rgba(0, 0, 0, 0.15);\n",
              "      filter: drop-shadow(0px 1px 2px rgba(0, 0, 0, 0.3));\n",
              "      fill: #FFFFFF;\n",
              "    }\n",
              "  </style>\n",
              "\n",
              "    <script>\n",
              "      const buttonEl =\n",
              "        document.querySelector('#df-f9fbad44-0f23-4ffa-920a-d1435a63119a button.colab-df-convert');\n",
              "      buttonEl.style.display =\n",
              "        google.colab.kernel.accessAllowed ? 'block' : 'none';\n",
              "\n",
              "      async function convertToInteractive(key) {\n",
              "        const element = document.querySelector('#df-f9fbad44-0f23-4ffa-920a-d1435a63119a');\n",
              "        const dataTable =\n",
              "          await google.colab.kernel.invokeFunction('convertToInteractive',\n",
              "                                                    [key], {});\n",
              "        if (!dataTable) return;\n",
              "\n",
              "        const docLinkHtml = 'Like what you see? Visit the ' +\n",
              "          '<a target=\"_blank\" href=https://colab.research.google.com/notebooks/data_table.ipynb>data table notebook</a>'\n",
              "          + ' to learn more about interactive tables.';\n",
              "        element.innerHTML = '';\n",
              "        dataTable['output_type'] = 'display_data';\n",
              "        await google.colab.output.renderOutput(dataTable, element);\n",
              "        const docLink = document.createElement('div');\n",
              "        docLink.innerHTML = docLinkHtml;\n",
              "        element.appendChild(docLink);\n",
              "      }\n",
              "    </script>\n",
              "  </div>\n",
              "\n",
              "\n",
              "<div id=\"df-6222dcfa-a3d9-4f84-bc9c-3635e255e68d\">\n",
              "  <button class=\"colab-df-quickchart\" onclick=\"quickchart('df-6222dcfa-a3d9-4f84-bc9c-3635e255e68d')\"\n",
              "            title=\"Suggest charts\"\n",
              "            style=\"display:none;\">\n",
              "\n",
              "<svg xmlns=\"http://www.w3.org/2000/svg\" height=\"24px\"viewBox=\"0 0 24 24\"\n",
              "     width=\"24px\">\n",
              "    <g>\n",
              "        <path d=\"M19 3H5c-1.1 0-2 .9-2 2v14c0 1.1.9 2 2 2h14c1.1 0 2-.9 2-2V5c0-1.1-.9-2-2-2zM9 17H7v-7h2v7zm4 0h-2V7h2v10zm4 0h-2v-4h2v4z\"/>\n",
              "    </g>\n",
              "</svg>\n",
              "  </button>\n",
              "\n",
              "<style>\n",
              "  .colab-df-quickchart {\n",
              "      --bg-color: #E8F0FE;\n",
              "      --fill-color: #1967D2;\n",
              "      --hover-bg-color: #E2EBFA;\n",
              "      --hover-fill-color: #174EA6;\n",
              "      --disabled-fill-color: #AAA;\n",
              "      --disabled-bg-color: #DDD;\n",
              "  }\n",
              "\n",
              "  [theme=dark] .colab-df-quickchart {\n",
              "      --bg-color: #3B4455;\n",
              "      --fill-color: #D2E3FC;\n",
              "      --hover-bg-color: #434B5C;\n",
              "      --hover-fill-color: #FFFFFF;\n",
              "      --disabled-bg-color: #3B4455;\n",
              "      --disabled-fill-color: #666;\n",
              "  }\n",
              "\n",
              "  .colab-df-quickchart {\n",
              "    background-color: var(--bg-color);\n",
              "    border: none;\n",
              "    border-radius: 50%;\n",
              "    cursor: pointer;\n",
              "    display: none;\n",
              "    fill: var(--fill-color);\n",
              "    height: 32px;\n",
              "    padding: 0;\n",
              "    width: 32px;\n",
              "  }\n",
              "\n",
              "  .colab-df-quickchart:hover {\n",
              "    background-color: var(--hover-bg-color);\n",
              "    box-shadow: 0 1px 2px rgba(60, 64, 67, 0.3), 0 1px 3px 1px rgba(60, 64, 67, 0.15);\n",
              "    fill: var(--button-hover-fill-color);\n",
              "  }\n",
              "\n",
              "  .colab-df-quickchart-complete:disabled,\n",
              "  .colab-df-quickchart-complete:disabled:hover {\n",
              "    background-color: var(--disabled-bg-color);\n",
              "    fill: var(--disabled-fill-color);\n",
              "    box-shadow: none;\n",
              "  }\n",
              "\n",
              "  .colab-df-spinner {\n",
              "    border: 2px solid var(--fill-color);\n",
              "    border-color: transparent;\n",
              "    border-bottom-color: var(--fill-color);\n",
              "    animation:\n",
              "      spin 1s steps(1) infinite;\n",
              "  }\n",
              "\n",
              "  @keyframes spin {\n",
              "    0% {\n",
              "      border-color: transparent;\n",
              "      border-bottom-color: var(--fill-color);\n",
              "      border-left-color: var(--fill-color);\n",
              "    }\n",
              "    20% {\n",
              "      border-color: transparent;\n",
              "      border-left-color: var(--fill-color);\n",
              "      border-top-color: var(--fill-color);\n",
              "    }\n",
              "    30% {\n",
              "      border-color: transparent;\n",
              "      border-left-color: var(--fill-color);\n",
              "      border-top-color: var(--fill-color);\n",
              "      border-right-color: var(--fill-color);\n",
              "    }\n",
              "    40% {\n",
              "      border-color: transparent;\n",
              "      border-right-color: var(--fill-color);\n",
              "      border-top-color: var(--fill-color);\n",
              "    }\n",
              "    60% {\n",
              "      border-color: transparent;\n",
              "      border-right-color: var(--fill-color);\n",
              "    }\n",
              "    80% {\n",
              "      border-color: transparent;\n",
              "      border-right-color: var(--fill-color);\n",
              "      border-bottom-color: var(--fill-color);\n",
              "    }\n",
              "    90% {\n",
              "      border-color: transparent;\n",
              "      border-bottom-color: var(--fill-color);\n",
              "    }\n",
              "  }\n",
              "</style>\n",
              "\n",
              "  <script>\n",
              "    async function quickchart(key) {\n",
              "      const quickchartButtonEl =\n",
              "        document.querySelector('#' + key + ' button');\n",
              "      quickchartButtonEl.disabled = true;  // To prevent multiple clicks.\n",
              "      quickchartButtonEl.classList.add('colab-df-spinner');\n",
              "      try {\n",
              "        const charts = await google.colab.kernel.invokeFunction(\n",
              "            'suggestCharts', [key], {});\n",
              "      } catch (error) {\n",
              "        console.error('Error during call to suggestCharts:', error);\n",
              "      }\n",
              "      quickchartButtonEl.classList.remove('colab-df-spinner');\n",
              "      quickchartButtonEl.classList.add('colab-df-quickchart-complete');\n",
              "    }\n",
              "    (() => {\n",
              "      let quickchartButtonEl =\n",
              "        document.querySelector('#df-6222dcfa-a3d9-4f84-bc9c-3635e255e68d button');\n",
              "      quickchartButtonEl.style.display =\n",
              "        google.colab.kernel.accessAllowed ? 'block' : 'none';\n",
              "    })();\n",
              "  </script>\n",
              "</div>\n",
              "    </div>\n",
              "  </div>\n"
            ],
            "text/plain": [
              "                             uid  \\\n",
              "0      [urlsf_subset01]-[362358]   \n",
              "1      [urlsf_subset01]-[116340]   \n",
              "2      [urlsf_subset01]-[299487]   \n",
              "3      [urlsf_subset01]-[137018]   \n",
              "4      [urlsf_subset01]-[302038]   \n",
              "...                          ...   \n",
              "29390  [urlsf_subset05]-[141028]   \n",
              "29391   [urlsf_subset05]-[49964]   \n",
              "29392  [urlsf_subset05]-[116459]   \n",
              "29393   [urlsf_subset05]-[67867]   \n",
              "29394  [urlsf_subset05]-[235583]   \n",
              "\n",
              "                                                    text  value  \n",
              "0      The US is to review its military support for S...      1  \n",
              "1      Some game developers are seeking inspiration f...      1  \n",
              "2      IntercontinentalExchange's acquisition of the ...      1  \n",
              "3      According to research from The University of W...      1  \n",
              "4      The Davao City Council has declared comedian R...      1  \n",
              "...                                                  ...    ...  \n",
              "29390  The article \"Creative underexposure with a Nik...      1  \n",
              "29391  The special education services that New York S...      1  \n",
              "29392  During the third week of the trial, two opposi...      1  \n",
              "29393  Mogwai Young Team, the debut studio album by S...      1  \n",
              "29394  I love meeting people in conservation - they'r...      1  \n",
              "\n",
              "[29395 rows x 3 columns]"
            ]
          },
          "execution_count": 12,
          "metadata": {},
          "output_type": "execute_result"
        }
      ],
      "source": [
        "data_gpt"
      ]
    },
    {
      "cell_type": "code",
      "execution_count": null,
      "metadata": {
        "colab": {
          "base_uri": "https://localhost:8080/"
        },
        "id": "vSNPLhHKlHdV",
        "outputId": "e2ff38af-a5ef-420a-8804-17e8ad1ed62a"
      },
      "outputs": [
        {
          "data": {
            "text/plain": [
              "(29142, 3)"
            ]
          },
          "execution_count": 10,
          "metadata": {},
          "output_type": "execute_result"
        }
      ],
      "source": [
        "data_human.shape"
      ]
    },
    {
      "cell_type": "code",
      "execution_count": null,
      "metadata": {
        "colab": {
          "base_uri": "https://localhost:8080/"
        },
        "id": "9IGLrSxD8b_p",
        "outputId": "151fc3df-1d88-44bf-90b6-554c1a1a1549"
      },
      "outputs": [
        {
          "data": {
            "text/plain": [
              "(29142, 3)"
            ]
          },
          "execution_count": 112,
          "metadata": {},
          "output_type": "execute_result"
        }
      ],
      "source": [
        "data_human.shape"
      ]
    },
    {
      "cell_type": "code",
      "execution_count": null,
      "metadata": {
        "colab": {
          "base_uri": "https://localhost:8080/"
        },
        "id": "cJW4gOVToGba",
        "outputId": "621c3ad2-fda9-4e35-8c09-88222c9d0944"
      },
      "outputs": [
        {
          "data": {
            "text/plain": [
              "(29395, 3)"
            ]
          },
          "execution_count": 62,
          "metadata": {},
          "output_type": "execute_result"
        }
      ],
      "source": [
        "data_gpt.shape"
      ]
    },
    {
      "cell_type": "markdown",
      "metadata": {
        "id": "eQBsGAhA2DWf"
      },
      "source": [
        "####Combinação dos Dados\n",
        "\n"
      ]
    },
    {
      "cell_type": "code",
      "execution_count": null,
      "metadata": {
        "id": "R8hG5dNoo68j"
      },
      "outputs": [],
      "source": [
        "combined_data = pd.concat([data_gpt, data_human], ignore_index=True)\n",
        "combined_data = combined_data.drop(combined_data.columns[0], axis=1)"
      ]
    },
    {
      "cell_type": "code",
      "execution_count": null,
      "metadata": {
        "colab": {
          "base_uri": "https://localhost:8080/"
        },
        "id": "UpXBI3oto9aT",
        "outputId": "300ef7e4-4b9b-4f33-81d4-82c1052ae41b"
      },
      "outputs": [
        {
          "data": {
            "text/html": [
              "\n",
              "  <div id=\"df-6bd221bc-5775-40a3-a6de-0515e3376540\" class=\"colab-df-container\">\n",
              "    <div>\n",
              "<style scoped>\n",
              "    .dataframe tbody tr th:only-of-type {\n",
              "        vertical-align: middle;\n",
              "    }\n",
              "\n",
              "    .dataframe tbody tr th {\n",
              "        vertical-align: top;\n",
              "    }\n",
              "\n",
              "    .dataframe thead th {\n",
              "        text-align: right;\n",
              "    }\n",
              "</style>\n",
              "<table border=\"1\" class=\"dataframe\">\n",
              "  <thead>\n",
              "    <tr style=\"text-align: right;\">\n",
              "      <th></th>\n",
              "      <th>text</th>\n",
              "      <th>value</th>\n",
              "    </tr>\n",
              "  </thead>\n",
              "  <tbody>\n",
              "    <tr>\n",
              "      <th>0</th>\n",
              "      <td>The US is to review its military support for S...</td>\n",
              "      <td>1</td>\n",
              "    </tr>\n",
              "    <tr>\n",
              "      <th>1</th>\n",
              "      <td>Some game developers are seeking inspiration f...</td>\n",
              "      <td>1</td>\n",
              "    </tr>\n",
              "    <tr>\n",
              "      <th>2</th>\n",
              "      <td>IntercontinentalExchange's acquisition of the ...</td>\n",
              "      <td>1</td>\n",
              "    </tr>\n",
              "    <tr>\n",
              "      <th>3</th>\n",
              "      <td>According to research from The University of W...</td>\n",
              "      <td>1</td>\n",
              "    </tr>\n",
              "    <tr>\n",
              "      <th>4</th>\n",
              "      <td>The Davao City Council has declared comedian R...</td>\n",
              "      <td>1</td>\n",
              "    </tr>\n",
              "    <tr>\n",
              "      <th>...</th>\n",
              "      <td>...</td>\n",
              "      <td>...</td>\n",
              "    </tr>\n",
              "    <tr>\n",
              "      <th>58532</th>\n",
              "      <td>Academic freedom -- for conservatives -- died ...</td>\n",
              "      <td>0</td>\n",
              "    </tr>\n",
              "    <tr>\n",
              "      <th>58533</th>\n",
              "      <td>When Dylan Higgins invited me on to the Field ...</td>\n",
              "      <td>0</td>\n",
              "    </tr>\n",
              "    <tr>\n",
              "      <th>58534</th>\n",
              "      <td>John Kasich. AP Photo/John Minchillo\\nJohn Kas...</td>\n",
              "      <td>0</td>\n",
              "    </tr>\n",
              "    <tr>\n",
              "      <th>58535</th>\n",
              "      <td>A Navy-funded thermal engine bobbing off the c...</td>\n",
              "      <td>0</td>\n",
              "    </tr>\n",
              "    <tr>\n",
              "      <th>58536</th>\n",
              "      <td>A U.S. Army Black Hawk helicopter is seen. (Ph...</td>\n",
              "      <td>0</td>\n",
              "    </tr>\n",
              "  </tbody>\n",
              "</table>\n",
              "<p>58537 rows × 2 columns</p>\n",
              "</div>\n",
              "    <div class=\"colab-df-buttons\">\n",
              "\n",
              "  <div class=\"colab-df-container\">\n",
              "    <button class=\"colab-df-convert\" onclick=\"convertToInteractive('df-6bd221bc-5775-40a3-a6de-0515e3376540')\"\n",
              "            title=\"Convert this dataframe to an interactive table.\"\n",
              "            style=\"display:none;\">\n",
              "\n",
              "  <svg xmlns=\"http://www.w3.org/2000/svg\" height=\"24px\" viewBox=\"0 -960 960 960\">\n",
              "    <path d=\"M120-120v-720h720v720H120Zm60-500h600v-160H180v160Zm220 220h160v-160H400v160Zm0 220h160v-160H400v160ZM180-400h160v-160H180v160Zm440 0h160v-160H620v160ZM180-180h160v-160H180v160Zm440 0h160v-160H620v160Z\"/>\n",
              "  </svg>\n",
              "    </button>\n",
              "\n",
              "  <style>\n",
              "    .colab-df-container {\n",
              "      display:flex;\n",
              "      gap: 12px;\n",
              "    }\n",
              "\n",
              "    .colab-df-convert {\n",
              "      background-color: #E8F0FE;\n",
              "      border: none;\n",
              "      border-radius: 50%;\n",
              "      cursor: pointer;\n",
              "      display: none;\n",
              "      fill: #1967D2;\n",
              "      height: 32px;\n",
              "      padding: 0 0 0 0;\n",
              "      width: 32px;\n",
              "    }\n",
              "\n",
              "    .colab-df-convert:hover {\n",
              "      background-color: #E2EBFA;\n",
              "      box-shadow: 0px 1px 2px rgba(60, 64, 67, 0.3), 0px 1px 3px 1px rgba(60, 64, 67, 0.15);\n",
              "      fill: #174EA6;\n",
              "    }\n",
              "\n",
              "    .colab-df-buttons div {\n",
              "      margin-bottom: 4px;\n",
              "    }\n",
              "\n",
              "    [theme=dark] .colab-df-convert {\n",
              "      background-color: #3B4455;\n",
              "      fill: #D2E3FC;\n",
              "    }\n",
              "\n",
              "    [theme=dark] .colab-df-convert:hover {\n",
              "      background-color: #434B5C;\n",
              "      box-shadow: 0px 1px 3px 1px rgba(0, 0, 0, 0.15);\n",
              "      filter: drop-shadow(0px 1px 2px rgba(0, 0, 0, 0.3));\n",
              "      fill: #FFFFFF;\n",
              "    }\n",
              "  </style>\n",
              "\n",
              "    <script>\n",
              "      const buttonEl =\n",
              "        document.querySelector('#df-6bd221bc-5775-40a3-a6de-0515e3376540 button.colab-df-convert');\n",
              "      buttonEl.style.display =\n",
              "        google.colab.kernel.accessAllowed ? 'block' : 'none';\n",
              "\n",
              "      async function convertToInteractive(key) {\n",
              "        const element = document.querySelector('#df-6bd221bc-5775-40a3-a6de-0515e3376540');\n",
              "        const dataTable =\n",
              "          await google.colab.kernel.invokeFunction('convertToInteractive',\n",
              "                                                    [key], {});\n",
              "        if (!dataTable) return;\n",
              "\n",
              "        const docLinkHtml = 'Like what you see? Visit the ' +\n",
              "          '<a target=\"_blank\" href=https://colab.research.google.com/notebooks/data_table.ipynb>data table notebook</a>'\n",
              "          + ' to learn more about interactive tables.';\n",
              "        element.innerHTML = '';\n",
              "        dataTable['output_type'] = 'display_data';\n",
              "        await google.colab.output.renderOutput(dataTable, element);\n",
              "        const docLink = document.createElement('div');\n",
              "        docLink.innerHTML = docLinkHtml;\n",
              "        element.appendChild(docLink);\n",
              "      }\n",
              "    </script>\n",
              "  </div>\n",
              "\n",
              "\n",
              "<div id=\"df-e020c4fe-cc62-411d-8787-22ab571b960c\">\n",
              "  <button class=\"colab-df-quickchart\" onclick=\"quickchart('df-e020c4fe-cc62-411d-8787-22ab571b960c')\"\n",
              "            title=\"Suggest charts\"\n",
              "            style=\"display:none;\">\n",
              "\n",
              "<svg xmlns=\"http://www.w3.org/2000/svg\" height=\"24px\"viewBox=\"0 0 24 24\"\n",
              "     width=\"24px\">\n",
              "    <g>\n",
              "        <path d=\"M19 3H5c-1.1 0-2 .9-2 2v14c0 1.1.9 2 2 2h14c1.1 0 2-.9 2-2V5c0-1.1-.9-2-2-2zM9 17H7v-7h2v7zm4 0h-2V7h2v10zm4 0h-2v-4h2v4z\"/>\n",
              "    </g>\n",
              "</svg>\n",
              "  </button>\n",
              "\n",
              "<style>\n",
              "  .colab-df-quickchart {\n",
              "      --bg-color: #E8F0FE;\n",
              "      --fill-color: #1967D2;\n",
              "      --hover-bg-color: #E2EBFA;\n",
              "      --hover-fill-color: #174EA6;\n",
              "      --disabled-fill-color: #AAA;\n",
              "      --disabled-bg-color: #DDD;\n",
              "  }\n",
              "\n",
              "  [theme=dark] .colab-df-quickchart {\n",
              "      --bg-color: #3B4455;\n",
              "      --fill-color: #D2E3FC;\n",
              "      --hover-bg-color: #434B5C;\n",
              "      --hover-fill-color: #FFFFFF;\n",
              "      --disabled-bg-color: #3B4455;\n",
              "      --disabled-fill-color: #666;\n",
              "  }\n",
              "\n",
              "  .colab-df-quickchart {\n",
              "    background-color: var(--bg-color);\n",
              "    border: none;\n",
              "    border-radius: 50%;\n",
              "    cursor: pointer;\n",
              "    display: none;\n",
              "    fill: var(--fill-color);\n",
              "    height: 32px;\n",
              "    padding: 0;\n",
              "    width: 32px;\n",
              "  }\n",
              "\n",
              "  .colab-df-quickchart:hover {\n",
              "    background-color: var(--hover-bg-color);\n",
              "    box-shadow: 0 1px 2px rgba(60, 64, 67, 0.3), 0 1px 3px 1px rgba(60, 64, 67, 0.15);\n",
              "    fill: var(--button-hover-fill-color);\n",
              "  }\n",
              "\n",
              "  .colab-df-quickchart-complete:disabled,\n",
              "  .colab-df-quickchart-complete:disabled:hover {\n",
              "    background-color: var(--disabled-bg-color);\n",
              "    fill: var(--disabled-fill-color);\n",
              "    box-shadow: none;\n",
              "  }\n",
              "\n",
              "  .colab-df-spinner {\n",
              "    border: 2px solid var(--fill-color);\n",
              "    border-color: transparent;\n",
              "    border-bottom-color: var(--fill-color);\n",
              "    animation:\n",
              "      spin 1s steps(1) infinite;\n",
              "  }\n",
              "\n",
              "  @keyframes spin {\n",
              "    0% {\n",
              "      border-color: transparent;\n",
              "      border-bottom-color: var(--fill-color);\n",
              "      border-left-color: var(--fill-color);\n",
              "    }\n",
              "    20% {\n",
              "      border-color: transparent;\n",
              "      border-left-color: var(--fill-color);\n",
              "      border-top-color: var(--fill-color);\n",
              "    }\n",
              "    30% {\n",
              "      border-color: transparent;\n",
              "      border-left-color: var(--fill-color);\n",
              "      border-top-color: var(--fill-color);\n",
              "      border-right-color: var(--fill-color);\n",
              "    }\n",
              "    40% {\n",
              "      border-color: transparent;\n",
              "      border-right-color: var(--fill-color);\n",
              "      border-top-color: var(--fill-color);\n",
              "    }\n",
              "    60% {\n",
              "      border-color: transparent;\n",
              "      border-right-color: var(--fill-color);\n",
              "    }\n",
              "    80% {\n",
              "      border-color: transparent;\n",
              "      border-right-color: var(--fill-color);\n",
              "      border-bottom-color: var(--fill-color);\n",
              "    }\n",
              "    90% {\n",
              "      border-color: transparent;\n",
              "      border-bottom-color: var(--fill-color);\n",
              "    }\n",
              "  }\n",
              "</style>\n",
              "\n",
              "  <script>\n",
              "    async function quickchart(key) {\n",
              "      const quickchartButtonEl =\n",
              "        document.querySelector('#' + key + ' button');\n",
              "      quickchartButtonEl.disabled = true;  // To prevent multiple clicks.\n",
              "      quickchartButtonEl.classList.add('colab-df-spinner');\n",
              "      try {\n",
              "        const charts = await google.colab.kernel.invokeFunction(\n",
              "            'suggestCharts', [key], {});\n",
              "      } catch (error) {\n",
              "        console.error('Error during call to suggestCharts:', error);\n",
              "      }\n",
              "      quickchartButtonEl.classList.remove('colab-df-spinner');\n",
              "      quickchartButtonEl.classList.add('colab-df-quickchart-complete');\n",
              "    }\n",
              "    (() => {\n",
              "      let quickchartButtonEl =\n",
              "        document.querySelector('#df-e020c4fe-cc62-411d-8787-22ab571b960c button');\n",
              "      quickchartButtonEl.style.display =\n",
              "        google.colab.kernel.accessAllowed ? 'block' : 'none';\n",
              "    })();\n",
              "  </script>\n",
              "</div>\n",
              "    </div>\n",
              "  </div>\n"
            ],
            "text/plain": [
              "                                                    text  value\n",
              "0      The US is to review its military support for S...      1\n",
              "1      Some game developers are seeking inspiration f...      1\n",
              "2      IntercontinentalExchange's acquisition of the ...      1\n",
              "3      According to research from The University of W...      1\n",
              "4      The Davao City Council has declared comedian R...      1\n",
              "...                                                  ...    ...\n",
              "58532  Academic freedom -- for conservatives -- died ...      0\n",
              "58533  When Dylan Higgins invited me on to the Field ...      0\n",
              "58534  John Kasich. AP Photo/John Minchillo\\nJohn Kas...      0\n",
              "58535  A Navy-funded thermal engine bobbing off the c...      0\n",
              "58536  A U.S. Army Black Hawk helicopter is seen. (Ph...      0\n",
              "\n",
              "[58537 rows x 2 columns]"
            ]
          },
          "execution_count": 12,
          "metadata": {},
          "output_type": "execute_result"
        }
      ],
      "source": [
        "combined_data"
      ]
    },
    {
      "cell_type": "code",
      "execution_count": null,
      "metadata": {
        "colab": {
          "base_uri": "https://localhost:8080/"
        },
        "id": "vdOvKPuWpMMu",
        "outputId": "e16f3436-fb32-4a17-fc38-7cfc27896019"
      },
      "outputs": [
        {
          "data": {
            "text/html": [
              "\n",
              "  <div id=\"df-b9da6e66-0a70-4a37-bcf1-08ccb116c9a3\" class=\"colab-df-container\">\n",
              "    <div>\n",
              "<style scoped>\n",
              "    .dataframe tbody tr th:only-of-type {\n",
              "        vertical-align: middle;\n",
              "    }\n",
              "\n",
              "    .dataframe tbody tr th {\n",
              "        vertical-align: top;\n",
              "    }\n",
              "\n",
              "    .dataframe thead th {\n",
              "        text-align: right;\n",
              "    }\n",
              "</style>\n",
              "<table border=\"1\" class=\"dataframe\">\n",
              "  <thead>\n",
              "    <tr style=\"text-align: right;\">\n",
              "      <th></th>\n",
              "      <th>text</th>\n",
              "      <th>value</th>\n",
              "    </tr>\n",
              "  </thead>\n",
              "  <tbody>\n",
              "    <tr>\n",
              "      <th>0</th>\n",
              "      <td>The US is to review its military support for S...</td>\n",
              "      <td>1</td>\n",
              "    </tr>\n",
              "    <tr>\n",
              "      <th>1</th>\n",
              "      <td>Some game developers are seeking inspiration f...</td>\n",
              "      <td>1</td>\n",
              "    </tr>\n",
              "    <tr>\n",
              "      <th>2</th>\n",
              "      <td>IntercontinentalExchange's acquisition of the ...</td>\n",
              "      <td>1</td>\n",
              "    </tr>\n",
              "    <tr>\n",
              "      <th>3</th>\n",
              "      <td>According to research from The University of W...</td>\n",
              "      <td>1</td>\n",
              "    </tr>\n",
              "    <tr>\n",
              "      <th>4</th>\n",
              "      <td>The Davao City Council has declared comedian R...</td>\n",
              "      <td>1</td>\n",
              "    </tr>\n",
              "  </tbody>\n",
              "</table>\n",
              "</div>\n",
              "    <div class=\"colab-df-buttons\">\n",
              "\n",
              "  <div class=\"colab-df-container\">\n",
              "    <button class=\"colab-df-convert\" onclick=\"convertToInteractive('df-b9da6e66-0a70-4a37-bcf1-08ccb116c9a3')\"\n",
              "            title=\"Convert this dataframe to an interactive table.\"\n",
              "            style=\"display:none;\">\n",
              "\n",
              "  <svg xmlns=\"http://www.w3.org/2000/svg\" height=\"24px\" viewBox=\"0 -960 960 960\">\n",
              "    <path d=\"M120-120v-720h720v720H120Zm60-500h600v-160H180v160Zm220 220h160v-160H400v160Zm0 220h160v-160H400v160ZM180-400h160v-160H180v160Zm440 0h160v-160H620v160ZM180-180h160v-160H180v160Zm440 0h160v-160H620v160Z\"/>\n",
              "  </svg>\n",
              "    </button>\n",
              "\n",
              "  <style>\n",
              "    .colab-df-container {\n",
              "      display:flex;\n",
              "      gap: 12px;\n",
              "    }\n",
              "\n",
              "    .colab-df-convert {\n",
              "      background-color: #E8F0FE;\n",
              "      border: none;\n",
              "      border-radius: 50%;\n",
              "      cursor: pointer;\n",
              "      display: none;\n",
              "      fill: #1967D2;\n",
              "      height: 32px;\n",
              "      padding: 0 0 0 0;\n",
              "      width: 32px;\n",
              "    }\n",
              "\n",
              "    .colab-df-convert:hover {\n",
              "      background-color: #E2EBFA;\n",
              "      box-shadow: 0px 1px 2px rgba(60, 64, 67, 0.3), 0px 1px 3px 1px rgba(60, 64, 67, 0.15);\n",
              "      fill: #174EA6;\n",
              "    }\n",
              "\n",
              "    .colab-df-buttons div {\n",
              "      margin-bottom: 4px;\n",
              "    }\n",
              "\n",
              "    [theme=dark] .colab-df-convert {\n",
              "      background-color: #3B4455;\n",
              "      fill: #D2E3FC;\n",
              "    }\n",
              "\n",
              "    [theme=dark] .colab-df-convert:hover {\n",
              "      background-color: #434B5C;\n",
              "      box-shadow: 0px 1px 3px 1px rgba(0, 0, 0, 0.15);\n",
              "      filter: drop-shadow(0px 1px 2px rgba(0, 0, 0, 0.3));\n",
              "      fill: #FFFFFF;\n",
              "    }\n",
              "  </style>\n",
              "\n",
              "    <script>\n",
              "      const buttonEl =\n",
              "        document.querySelector('#df-b9da6e66-0a70-4a37-bcf1-08ccb116c9a3 button.colab-df-convert');\n",
              "      buttonEl.style.display =\n",
              "        google.colab.kernel.accessAllowed ? 'block' : 'none';\n",
              "\n",
              "      async function convertToInteractive(key) {\n",
              "        const element = document.querySelector('#df-b9da6e66-0a70-4a37-bcf1-08ccb116c9a3');\n",
              "        const dataTable =\n",
              "          await google.colab.kernel.invokeFunction('convertToInteractive',\n",
              "                                                    [key], {});\n",
              "        if (!dataTable) return;\n",
              "\n",
              "        const docLinkHtml = 'Like what you see? Visit the ' +\n",
              "          '<a target=\"_blank\" href=https://colab.research.google.com/notebooks/data_table.ipynb>data table notebook</a>'\n",
              "          + ' to learn more about interactive tables.';\n",
              "        element.innerHTML = '';\n",
              "        dataTable['output_type'] = 'display_data';\n",
              "        await google.colab.output.renderOutput(dataTable, element);\n",
              "        const docLink = document.createElement('div');\n",
              "        docLink.innerHTML = docLinkHtml;\n",
              "        element.appendChild(docLink);\n",
              "      }\n",
              "    </script>\n",
              "  </div>\n",
              "\n",
              "\n",
              "<div id=\"df-5792f511-f09d-4e1f-9445-e87fa4d457bb\">\n",
              "  <button class=\"colab-df-quickchart\" onclick=\"quickchart('df-5792f511-f09d-4e1f-9445-e87fa4d457bb')\"\n",
              "            title=\"Suggest charts\"\n",
              "            style=\"display:none;\">\n",
              "\n",
              "<svg xmlns=\"http://www.w3.org/2000/svg\" height=\"24px\"viewBox=\"0 0 24 24\"\n",
              "     width=\"24px\">\n",
              "    <g>\n",
              "        <path d=\"M19 3H5c-1.1 0-2 .9-2 2v14c0 1.1.9 2 2 2h14c1.1 0 2-.9 2-2V5c0-1.1-.9-2-2-2zM9 17H7v-7h2v7zm4 0h-2V7h2v10zm4 0h-2v-4h2v4z\"/>\n",
              "    </g>\n",
              "</svg>\n",
              "  </button>\n",
              "\n",
              "<style>\n",
              "  .colab-df-quickchart {\n",
              "      --bg-color: #E8F0FE;\n",
              "      --fill-color: #1967D2;\n",
              "      --hover-bg-color: #E2EBFA;\n",
              "      --hover-fill-color: #174EA6;\n",
              "      --disabled-fill-color: #AAA;\n",
              "      --disabled-bg-color: #DDD;\n",
              "  }\n",
              "\n",
              "  [theme=dark] .colab-df-quickchart {\n",
              "      --bg-color: #3B4455;\n",
              "      --fill-color: #D2E3FC;\n",
              "      --hover-bg-color: #434B5C;\n",
              "      --hover-fill-color: #FFFFFF;\n",
              "      --disabled-bg-color: #3B4455;\n",
              "      --disabled-fill-color: #666;\n",
              "  }\n",
              "\n",
              "  .colab-df-quickchart {\n",
              "    background-color: var(--bg-color);\n",
              "    border: none;\n",
              "    border-radius: 50%;\n",
              "    cursor: pointer;\n",
              "    display: none;\n",
              "    fill: var(--fill-color);\n",
              "    height: 32px;\n",
              "    padding: 0;\n",
              "    width: 32px;\n",
              "  }\n",
              "\n",
              "  .colab-df-quickchart:hover {\n",
              "    background-color: var(--hover-bg-color);\n",
              "    box-shadow: 0 1px 2px rgba(60, 64, 67, 0.3), 0 1px 3px 1px rgba(60, 64, 67, 0.15);\n",
              "    fill: var(--button-hover-fill-color);\n",
              "  }\n",
              "\n",
              "  .colab-df-quickchart-complete:disabled,\n",
              "  .colab-df-quickchart-complete:disabled:hover {\n",
              "    background-color: var(--disabled-bg-color);\n",
              "    fill: var(--disabled-fill-color);\n",
              "    box-shadow: none;\n",
              "  }\n",
              "\n",
              "  .colab-df-spinner {\n",
              "    border: 2px solid var(--fill-color);\n",
              "    border-color: transparent;\n",
              "    border-bottom-color: var(--fill-color);\n",
              "    animation:\n",
              "      spin 1s steps(1) infinite;\n",
              "  }\n",
              "\n",
              "  @keyframes spin {\n",
              "    0% {\n",
              "      border-color: transparent;\n",
              "      border-bottom-color: var(--fill-color);\n",
              "      border-left-color: var(--fill-color);\n",
              "    }\n",
              "    20% {\n",
              "      border-color: transparent;\n",
              "      border-left-color: var(--fill-color);\n",
              "      border-top-color: var(--fill-color);\n",
              "    }\n",
              "    30% {\n",
              "      border-color: transparent;\n",
              "      border-left-color: var(--fill-color);\n",
              "      border-top-color: var(--fill-color);\n",
              "      border-right-color: var(--fill-color);\n",
              "    }\n",
              "    40% {\n",
              "      border-color: transparent;\n",
              "      border-right-color: var(--fill-color);\n",
              "      border-top-color: var(--fill-color);\n",
              "    }\n",
              "    60% {\n",
              "      border-color: transparent;\n",
              "      border-right-color: var(--fill-color);\n",
              "    }\n",
              "    80% {\n",
              "      border-color: transparent;\n",
              "      border-right-color: var(--fill-color);\n",
              "      border-bottom-color: var(--fill-color);\n",
              "    }\n",
              "    90% {\n",
              "      border-color: transparent;\n",
              "      border-bottom-color: var(--fill-color);\n",
              "    }\n",
              "  }\n",
              "</style>\n",
              "\n",
              "  <script>\n",
              "    async function quickchart(key) {\n",
              "      const quickchartButtonEl =\n",
              "        document.querySelector('#' + key + ' button');\n",
              "      quickchartButtonEl.disabled = true;  // To prevent multiple clicks.\n",
              "      quickchartButtonEl.classList.add('colab-df-spinner');\n",
              "      try {\n",
              "        const charts = await google.colab.kernel.invokeFunction(\n",
              "            'suggestCharts', [key], {});\n",
              "      } catch (error) {\n",
              "        console.error('Error during call to suggestCharts:', error);\n",
              "      }\n",
              "      quickchartButtonEl.classList.remove('colab-df-spinner');\n",
              "      quickchartButtonEl.classList.add('colab-df-quickchart-complete');\n",
              "    }\n",
              "    (() => {\n",
              "      let quickchartButtonEl =\n",
              "        document.querySelector('#df-5792f511-f09d-4e1f-9445-e87fa4d457bb button');\n",
              "      quickchartButtonEl.style.display =\n",
              "        google.colab.kernel.accessAllowed ? 'block' : 'none';\n",
              "    })();\n",
              "  </script>\n",
              "</div>\n",
              "    </div>\n",
              "  </div>\n"
            ],
            "text/plain": [
              "                                                text  value\n",
              "0  The US is to review its military support for S...      1\n",
              "1  Some game developers are seeking inspiration f...      1\n",
              "2  IntercontinentalExchange's acquisition of the ...      1\n",
              "3  According to research from The University of W...      1\n",
              "4  The Davao City Council has declared comedian R...      1"
            ]
          },
          "execution_count": 13,
          "metadata": {},
          "output_type": "execute_result"
        }
      ],
      "source": [
        "combined_data.head()"
      ]
    },
    {
      "cell_type": "code",
      "execution_count": null,
      "metadata": {
        "colab": {
          "base_uri": "https://localhost:8080/",
          "height": 487
        },
        "id": "AVJHMA7TpQbx",
        "outputId": "1ec5649b-579b-47f6-9633-f029977ef3ed"
      },
      "outputs": [
        {
          "data": {
            "text/html": [
              "\n",
              "  <div id=\"df-ffb1a30d-540c-4c6d-b1e7-15b009dbe7f9\" class=\"colab-df-container\">\n",
              "    <div>\n",
              "<style scoped>\n",
              "    .dataframe tbody tr th:only-of-type {\n",
              "        vertical-align: middle;\n",
              "    }\n",
              "\n",
              "    .dataframe tbody tr th {\n",
              "        vertical-align: top;\n",
              "    }\n",
              "\n",
              "    .dataframe thead th {\n",
              "        text-align: right;\n",
              "    }\n",
              "</style>\n",
              "<table border=\"1\" class=\"dataframe\">\n",
              "  <thead>\n",
              "    <tr style=\"text-align: right;\">\n",
              "      <th></th>\n",
              "      <th>text</th>\n",
              "      <th>value</th>\n",
              "    </tr>\n",
              "  </thead>\n",
              "  <tbody>\n",
              "    <tr>\n",
              "      <th>58532</th>\n",
              "      <td>Academic freedom -- for conservatives -- died ...</td>\n",
              "      <td>0</td>\n",
              "    </tr>\n",
              "    <tr>\n",
              "      <th>58533</th>\n",
              "      <td>When Dylan Higgins invited me on to the Field ...</td>\n",
              "      <td>0</td>\n",
              "    </tr>\n",
              "    <tr>\n",
              "      <th>58534</th>\n",
              "      <td>John Kasich. AP Photo/John Minchillo\\nJohn Kas...</td>\n",
              "      <td>0</td>\n",
              "    </tr>\n",
              "    <tr>\n",
              "      <th>58535</th>\n",
              "      <td>A Navy-funded thermal engine bobbing off the c...</td>\n",
              "      <td>0</td>\n",
              "    </tr>\n",
              "    <tr>\n",
              "      <th>58536</th>\n",
              "      <td>A U.S. Army Black Hawk helicopter is seen. (Ph...</td>\n",
              "      <td>0</td>\n",
              "    </tr>\n",
              "  </tbody>\n",
              "</table>\n",
              "</div>\n",
              "    <div class=\"colab-df-buttons\">\n",
              "\n",
              "  <div class=\"colab-df-container\">\n",
              "    <button class=\"colab-df-convert\" onclick=\"convertToInteractive('df-ffb1a30d-540c-4c6d-b1e7-15b009dbe7f9')\"\n",
              "            title=\"Convert this dataframe to an interactive table.\"\n",
              "            style=\"display:none;\">\n",
              "\n",
              "  <svg xmlns=\"http://www.w3.org/2000/svg\" height=\"24px\" viewBox=\"0 -960 960 960\">\n",
              "    <path d=\"M120-120v-720h720v720H120Zm60-500h600v-160H180v160Zm220 220h160v-160H400v160Zm0 220h160v-160H400v160ZM180-400h160v-160H180v160Zm440 0h160v-160H620v160ZM180-180h160v-160H180v160Zm440 0h160v-160H620v160Z\"/>\n",
              "  </svg>\n",
              "    </button>\n",
              "\n",
              "  <style>\n",
              "    .colab-df-container {\n",
              "      display:flex;\n",
              "      gap: 12px;\n",
              "    }\n",
              "\n",
              "    .colab-df-convert {\n",
              "      background-color: #E8F0FE;\n",
              "      border: none;\n",
              "      border-radius: 50%;\n",
              "      cursor: pointer;\n",
              "      display: none;\n",
              "      fill: #1967D2;\n",
              "      height: 32px;\n",
              "      padding: 0 0 0 0;\n",
              "      width: 32px;\n",
              "    }\n",
              "\n",
              "    .colab-df-convert:hover {\n",
              "      background-color: #E2EBFA;\n",
              "      box-shadow: 0px 1px 2px rgba(60, 64, 67, 0.3), 0px 1px 3px 1px rgba(60, 64, 67, 0.15);\n",
              "      fill: #174EA6;\n",
              "    }\n",
              "\n",
              "    .colab-df-buttons div {\n",
              "      margin-bottom: 4px;\n",
              "    }\n",
              "\n",
              "    [theme=dark] .colab-df-convert {\n",
              "      background-color: #3B4455;\n",
              "      fill: #D2E3FC;\n",
              "    }\n",
              "\n",
              "    [theme=dark] .colab-df-convert:hover {\n",
              "      background-color: #434B5C;\n",
              "      box-shadow: 0px 1px 3px 1px rgba(0, 0, 0, 0.15);\n",
              "      filter: drop-shadow(0px 1px 2px rgba(0, 0, 0, 0.3));\n",
              "      fill: #FFFFFF;\n",
              "    }\n",
              "  </style>\n",
              "\n",
              "    <script>\n",
              "      const buttonEl =\n",
              "        document.querySelector('#df-ffb1a30d-540c-4c6d-b1e7-15b009dbe7f9 button.colab-df-convert');\n",
              "      buttonEl.style.display =\n",
              "        google.colab.kernel.accessAllowed ? 'block' : 'none';\n",
              "\n",
              "      async function convertToInteractive(key) {\n",
              "        const element = document.querySelector('#df-ffb1a30d-540c-4c6d-b1e7-15b009dbe7f9');\n",
              "        const dataTable =\n",
              "          await google.colab.kernel.invokeFunction('convertToInteractive',\n",
              "                                                    [key], {});\n",
              "        if (!dataTable) return;\n",
              "\n",
              "        const docLinkHtml = 'Like what you see? Visit the ' +\n",
              "          '<a target=\"_blank\" href=https://colab.research.google.com/notebooks/data_table.ipynb>data table notebook</a>'\n",
              "          + ' to learn more about interactive tables.';\n",
              "        element.innerHTML = '';\n",
              "        dataTable['output_type'] = 'display_data';\n",
              "        await google.colab.output.renderOutput(dataTable, element);\n",
              "        const docLink = document.createElement('div');\n",
              "        docLink.innerHTML = docLinkHtml;\n",
              "        element.appendChild(docLink);\n",
              "      }\n",
              "    </script>\n",
              "  </div>\n",
              "\n",
              "\n",
              "<div id=\"df-07703ce5-855d-4d29-ae93-3b8d4bf20b6c\">\n",
              "  <button class=\"colab-df-quickchart\" onclick=\"quickchart('df-07703ce5-855d-4d29-ae93-3b8d4bf20b6c')\"\n",
              "            title=\"Suggest charts\"\n",
              "            style=\"display:none;\">\n",
              "\n",
              "<svg xmlns=\"http://www.w3.org/2000/svg\" height=\"24px\"viewBox=\"0 0 24 24\"\n",
              "     width=\"24px\">\n",
              "    <g>\n",
              "        <path d=\"M19 3H5c-1.1 0-2 .9-2 2v14c0 1.1.9 2 2 2h14c1.1 0 2-.9 2-2V5c0-1.1-.9-2-2-2zM9 17H7v-7h2v7zm4 0h-2V7h2v10zm4 0h-2v-4h2v4z\"/>\n",
              "    </g>\n",
              "</svg>\n",
              "  </button>\n",
              "\n",
              "<style>\n",
              "  .colab-df-quickchart {\n",
              "      --bg-color: #E8F0FE;\n",
              "      --fill-color: #1967D2;\n",
              "      --hover-bg-color: #E2EBFA;\n",
              "      --hover-fill-color: #174EA6;\n",
              "      --disabled-fill-color: #AAA;\n",
              "      --disabled-bg-color: #DDD;\n",
              "  }\n",
              "\n",
              "  [theme=dark] .colab-df-quickchart {\n",
              "      --bg-color: #3B4455;\n",
              "      --fill-color: #D2E3FC;\n",
              "      --hover-bg-color: #434B5C;\n",
              "      --hover-fill-color: #FFFFFF;\n",
              "      --disabled-bg-color: #3B4455;\n",
              "      --disabled-fill-color: #666;\n",
              "  }\n",
              "\n",
              "  .colab-df-quickchart {\n",
              "    background-color: var(--bg-color);\n",
              "    border: none;\n",
              "    border-radius: 50%;\n",
              "    cursor: pointer;\n",
              "    display: none;\n",
              "    fill: var(--fill-color);\n",
              "    height: 32px;\n",
              "    padding: 0;\n",
              "    width: 32px;\n",
              "  }\n",
              "\n",
              "  .colab-df-quickchart:hover {\n",
              "    background-color: var(--hover-bg-color);\n",
              "    box-shadow: 0 1px 2px rgba(60, 64, 67, 0.3), 0 1px 3px 1px rgba(60, 64, 67, 0.15);\n",
              "    fill: var(--button-hover-fill-color);\n",
              "  }\n",
              "\n",
              "  .colab-df-quickchart-complete:disabled,\n",
              "  .colab-df-quickchart-complete:disabled:hover {\n",
              "    background-color: var(--disabled-bg-color);\n",
              "    fill: var(--disabled-fill-color);\n",
              "    box-shadow: none;\n",
              "  }\n",
              "\n",
              "  .colab-df-spinner {\n",
              "    border: 2px solid var(--fill-color);\n",
              "    border-color: transparent;\n",
              "    border-bottom-color: var(--fill-color);\n",
              "    animation:\n",
              "      spin 1s steps(1) infinite;\n",
              "  }\n",
              "\n",
              "  @keyframes spin {\n",
              "    0% {\n",
              "      border-color: transparent;\n",
              "      border-bottom-color: var(--fill-color);\n",
              "      border-left-color: var(--fill-color);\n",
              "    }\n",
              "    20% {\n",
              "      border-color: transparent;\n",
              "      border-left-color: var(--fill-color);\n",
              "      border-top-color: var(--fill-color);\n",
              "    }\n",
              "    30% {\n",
              "      border-color: transparent;\n",
              "      border-left-color: var(--fill-color);\n",
              "      border-top-color: var(--fill-color);\n",
              "      border-right-color: var(--fill-color);\n",
              "    }\n",
              "    40% {\n",
              "      border-color: transparent;\n",
              "      border-right-color: var(--fill-color);\n",
              "      border-top-color: var(--fill-color);\n",
              "    }\n",
              "    60% {\n",
              "      border-color: transparent;\n",
              "      border-right-color: var(--fill-color);\n",
              "    }\n",
              "    80% {\n",
              "      border-color: transparent;\n",
              "      border-right-color: var(--fill-color);\n",
              "      border-bottom-color: var(--fill-color);\n",
              "    }\n",
              "    90% {\n",
              "      border-color: transparent;\n",
              "      border-bottom-color: var(--fill-color);\n",
              "    }\n",
              "  }\n",
              "</style>\n",
              "\n",
              "  <script>\n",
              "    async function quickchart(key) {\n",
              "      const quickchartButtonEl =\n",
              "        document.querySelector('#' + key + ' button');\n",
              "      quickchartButtonEl.disabled = true;  // To prevent multiple clicks.\n",
              "      quickchartButtonEl.classList.add('colab-df-spinner');\n",
              "      try {\n",
              "        const charts = await google.colab.kernel.invokeFunction(\n",
              "            'suggestCharts', [key], {});\n",
              "      } catch (error) {\n",
              "        console.error('Error during call to suggestCharts:', error);\n",
              "      }\n",
              "      quickchartButtonEl.classList.remove('colab-df-spinner');\n",
              "      quickchartButtonEl.classList.add('colab-df-quickchart-complete');\n",
              "    }\n",
              "    (() => {\n",
              "      let quickchartButtonEl =\n",
              "        document.querySelector('#df-07703ce5-855d-4d29-ae93-3b8d4bf20b6c button');\n",
              "      quickchartButtonEl.style.display =\n",
              "        google.colab.kernel.accessAllowed ? 'block' : 'none';\n",
              "    })();\n",
              "  </script>\n",
              "</div>\n",
              "    </div>\n",
              "  </div>\n"
            ],
            "text/plain": [
              "                                                    text  value\n",
              "58532  Academic freedom -- for conservatives -- died ...      0\n",
              "58533  When Dylan Higgins invited me on to the Field ...      0\n",
              "58534  John Kasich. AP Photo/John Minchillo\\nJohn Kas...      0\n",
              "58535  A Navy-funded thermal engine bobbing off the c...      0\n",
              "58536  A U.S. Army Black Hawk helicopter is seen. (Ph...      0"
            ]
          },
          "execution_count": 14,
          "metadata": {},
          "output_type": "execute_result"
        }
      ],
      "source": [
        "combined_data.tail()"
      ]
    },
    {
      "cell_type": "markdown",
      "metadata": {
        "id": "HBCDeho8-6k8"
      },
      "source": [
        "# **Part 2 - Métricas de Análise do DataSet**\n"
      ]
    },
    {
      "cell_type": "markdown",
      "metadata": {
        "id": "HYSnImZU_ATr"
      },
      "source": [
        "\n",
        "### **Cálculo do comprimento dos Textos**\n"
      ]
    },
    {
      "cell_type": "code",
      "execution_count": null,
      "metadata": {
        "colab": {
          "base_uri": "https://localhost:8080/",
          "height": 564
        },
        "id": "Ry47WxHX6UW_",
        "outputId": "bc3373b0-c960-404f-a1cf-5b793266c438"
      },
      "outputs": [
        {
          "data": {
            "image/png": "[encoded data removed]",
            "text/plain": [
              "<Figure size 1000x600 with 1 Axes>"
            ]
          },
          "metadata": {},
          "output_type": "display_data"
        }
      ],
      "source": [
        "text_data = pd.DataFrame({\n",
        "    'text': combined_data['text'],\n",
        "    'text_length': combined_data['text'].apply(len)\n",
        "})\n",
        "\n",
        "plt.figure(figsize=(10, 6))\n",
        "plt.hist(text_data['text_length'], bins=50, color='skyblue', edgecolor='black')\n",
        "\n",
        "plt.xlabel('Comprimento do Texto')\n",
        "plt.ylabel('Frequência')\n",
        "plt.title('Distribuição do Comprimento dos Textos')\n",
        "\n",
        "plt.grid(True)\n",
        "plt.show()"
      ]
    },
    {
      "cell_type": "markdown",
      "metadata": {
        "id": "2FbQHi2I_O9q"
      },
      "source": [
        "\n",
        "### **Cálculo da diversidade vocabular de um texto**\n"
      ]
    },
    {
      "cell_type": "code",
      "execution_count": null,
      "metadata": {
        "colab": {
          "base_uri": "https://localhost:8080/",
          "height": 564
        },
        "id": "sorCdr2x7TW5",
        "outputId": "a2e40153-9995-4075-ef56-ad671aad583a"
      },
      "outputs": [
        {
          "data": {
            "image/png": "[encoded data removed]",
            "text/plain": [
              "<Figure size 1000x600 with 1 Axes>"
            ]
          },
          "metadata": {},
          "output_type": "display_data"
        }
      ],
      "source": [
        "def calculate_vocab_diversity(text):\n",
        "    tokens = text.split()\n",
        "    unique_tokens = set(tokens)\n",
        "    num_tokens = len(tokens)\n",
        "    num_unique_tokens = len(unique_tokens)\n",
        "\n",
        "    if num_tokens > 0:\n",
        "        diversity = num_unique_tokens / num_tokens\n",
        "    else:\n",
        "        diversity = 0\n",
        "\n",
        "    return diversity\n",
        "\n",
        "vocab_diversity = combined_data['text'].apply(calculate_vocab_diversity)\n",
        "\n",
        "plt.figure(figsize=(10, 6))\n",
        "plt.hist(vocab_diversity, bins=50, color='lightgreen', edgecolor='black')\n",
        "\n",
        "plt.xlabel('Diversidade Vocabular')\n",
        "plt.ylabel('Frequência')\n",
        "plt.title('Distribuição da Diversidade Vocabular')\n",
        "\n",
        "plt.grid(True)\n",
        "plt.show()"
      ]
    },
    {
      "cell_type": "markdown",
      "metadata": {
        "id": "ZabSTb6e_XEQ"
      },
      "source": [
        "\n",
        "### **Análise de Sentimento**\n"
      ]
    },
    {
      "cell_type": "code",
      "execution_count": null,
      "metadata": {
        "colab": {
          "base_uri": "https://localhost:8080/",
          "height": 564
        },
        "id": "JNMgJyNd7-0h",
        "outputId": "82dcb868-bbee-4f2a-9e32-49d9702b2009"
      },
      "outputs": [
        {
          "data": {
            "image/png": "[encoded data removed]",
            "text/plain": [
              "<Figure size 1000x600 with 1 Axes>"
            ]
          },
          "metadata": {},
          "output_type": "display_data"
        }
      ],
      "source": [
        "from textblob import TextBlob\n",
        "\n",
        "def calculate_sentiment(text):\n",
        "    blob = TextBlob(text)\n",
        "    sentiment = blob.sentiment.polarity\n",
        "    return sentiment\n",
        "\n",
        "sentiments = combined_data['text'].apply(calculate_sentiment)\n",
        "\n",
        "plt.figure(figsize=(10, 6))\n",
        "plt.hist(sentiments, bins=50, color='lightblue', edgecolor='black')\n",
        "\n",
        "plt.xlabel('Sentimento')\n",
        "plt.ylabel('Frequência')\n",
        "plt.title('Distribuição do Sentimento dos Textos')\n",
        "\n",
        "plt.grid(True)\n",
        "plt.show()"
      ]
    },
    {
      "cell_type": "markdown",
      "metadata": {
        "id": "fIkPW2OE8F5L"
      },
      "source": [
        "\n",
        "### **Análise de Distribuição de Textos**\n"
      ]
    },
    {
      "cell_type": "code",
      "execution_count": null,
      "metadata": {
        "colab": {
          "base_uri": "https://localhost:8080/",
          "height": 521
        },
        "id": "Fisy-Ub04Y9F",
        "outputId": "36031da4-0a69-43c5-815e-0554622f235e"
      },
      "outputs": [
        {
          "data": {
            "image/png": "[encoded data removed]",
            "text/plain": [
              "<Figure size 800x600 with 1 Axes>"
            ]
          },
          "metadata": {},
          "output_type": "display_data"
        }
      ],
      "source": [
        "value_counts = combined_data['value'].value_counts()\n",
        "\n",
        "labels = ['GPT', 'Human']\n",
        "sizes = value_counts.values\n",
        "colors = ['lightcoral', 'lightskyblue']\n",
        "explode = (0.1, 0)\n",
        "\n",
        "plt.figure(figsize=(8, 6))\n",
        "plt.pie(sizes, explode=explode, labels=labels, colors=colors, autopct='%1.1f%%', shadow=True, startangle=140)\n",
        "plt.axis('equal')\n",
        "plt.title('Distribuição de dados GPT vs Human')\n",
        "plt.show()"
      ]
    },
    {
      "cell_type": "markdown",
      "metadata": {
        "id": "E7eSvdKgoAK1"
      },
      "source": [
        "\n",
        "### **Análise de Distribuição de Tokens**\n"
      ]
    },
    {
      "cell_type": "code",
      "execution_count": null,
      "metadata": {
        "colab": {
          "base_uri": "https://localhost:8080/",
          "height": 565
        },
        "id": "5sza5B2-lhJH",
        "outputId": "9181c061-859b-4757-d0fb-e6e35336d2b6"
      },
      "outputs": [
        {
          "data": {
            "image/png": "[encoded data removed]",
            "text/plain": [
              "<Figure size 800x600 with 1 Axes>"
            ]
          },
          "metadata": {},
          "output_type": "display_data"
        }
      ],
      "source": [
        "import matplotlib.pyplot as plt\n",
        "\n",
        "token_counts = combined_data['text'].apply(lambda x: len(x.split()))\n",
        "\n",
        "mean_tokens = token_counts.mean()\n",
        "mode_tokens = token_counts.mode()[0]\n",
        "median_tokens = token_counts.median()\n",
        "\n",
        "plt.figure(figsize=(8, 6))\n",
        "\n",
        "plt.hist(token_counts, bins=30, color='skyblue', edgecolor='black', alpha=0.7)\n",
        "\n",
        "plt.axvline(mean_tokens, color='red', linestyle='dashed', linewidth=1, label=f'Média: {mean_tokens:.2f}')\n",
        "plt.axvline(mode_tokens, color='green', linestyle='dashed', linewidth=1, label=f'Moda: {mode_tokens:.2f}')\n",
        "plt.axvline(median_tokens, color='orange', linestyle='dashed', linewidth=1, label=f'Mediana: {median_tokens:.2f}')\n",
        "\n",
        "plt.xlabel('Número de Tokens')\n",
        "plt.ylabel('Frequência')\n",
        "plt.title('Distribuição do Número de Tokens nos Textos')\n",
        "plt.legend()\n",
        "\n",
        "plt.show()"
      ]
    },
    {
      "cell_type": "markdown",
      "metadata": {
        "id": "fqwzrZyCCx3o"
      },
      "source": [
        "# **Part 3 - Arquitetura de Modelos**\n"
      ]
    },
    {
      "cell_type": "markdown",
      "metadata": {
        "id": "8DCFDbn9C4J7"
      },
      "source": [
        "![Captura de tela em 2023-10-31 14-41-27.png](data:image/png;base64,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)\n",
        "____________________________________________________________\n",
        "## Detalhando o RoBERTa-Base\n",
        "\n",
        "O RoBERTa-Base, um modelo popular, adota uma arquitetura com 12 camadas, cada uma composta por 768 neurônios, também denominados unidades de processamento. Durante a etapa de tokenização e processamento do texto, cada token (seja palavra ou subpalavra) é representado por um vetor de 768 valores numéricos.\n",
        "\n",
        "A camada de classificação, usada em tarefas específicas (como classificação de texto, perguntas e respostas, entre outras), recebe como entrada esses vetores de representação, também conhecidos como embeddings, com dimensão de 768. Para realizar a classificação, um modelo adicional, como uma Multilayer Perceptron (MLP), é anexado ao final dessas representações para executar a tarefa desejada, como a classificação de texto em categorias.\n",
        "\n",
        "Portanto, ao mencionar a necessidade de 768 neurônios na camada de classificação para receber vetores ocultos de 768 dimensões, isso significa que a camada de classificação deve ter a mesma dimensionalidade dos vetores ocultos produzidos pelo modelo, permitindo o processamento consistente dessas representações para a tarefa específica.\n",
        "\n",
        "A escolha de 768 neurônios na camada de classificação garante a compatibilidade e capacidade do modelo de processar e classificar corretamente as representações ocultas aprendidas pelo RoBERTa, mantendo a integridade das informações essenciais durante a etapa de classificação ou tarefa específica em execução.\n",
        "____________________________________________________________"
      ]
    },
    {
      "cell_type": "markdown",
      "metadata": {
        "id": "USmZ8NVXKVDo"
      },
      "source": [
        "![RNN.png](data:image/png;base64,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)\n",
        "\n",
        "____________________________________________________________\n",
        "## Detalhando RNN\n",
        "Uma RNN é projetada para lidar com dados sequenciais, como séries temporais ou texto. Aqui estão os componentes principais:\n",
        "\n",
        "Entrada (Input): Em cada passo, a RNN recebe uma entrada, que pode ser um vetor de características, uma palavra em uma sequência de palavras, ou qualquer dado sequencial.\n",
        "\n",
        "Estado Oculto (Hidden State): A RNN mantém um estado oculto que atua como sua \"memória\". Esse estado é atualizado a cada passo, levando em consideração a entrada atual e o estado oculto anterior.\n",
        "\n",
        "Função de Atualização (Update Function): A função de atualização utiliza a entrada atual e o estado oculto anterior para calcular o novo estado oculto. Isso ajuda a capturar as informações das etapas anteriores.\n",
        "\n",
        "Saída (Output): Com base no estado oculto atualizado, a RNN gera uma saída. Essa saída pode ser usada para prever o próximo elemento em uma sequência, classificar um dado, ou realizar outras tarefas, dependendo do propósito da rede.\n",
        "\n",
        "As RNNs são poderosas para lidar com dados sequenciais, mas têm desafios, como o problema do desaparecimento do gradiente. Para contornar isso, arquiteturas mais avançadas, como LSTMs e GRUs, foram desenvolvidas.\n",
        "____________________________________________________________"
      ]
    },
    {
      "cell_type": "markdown",
      "metadata": {
        "id": "JzN81gmJqVUh"
      },
      "source": [
        "![Arquitetura.png](data:image/png;base64,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)\n",
        "\n",
        "____________________________________________________________\n",
        "## Detalhando o LSTM\n",
        "A LSTM é composta por células de memória, e cada célula tem três portões: esquecimento (forget gate), entrada (input gate), e saída (output gate). Vamos detalhar cada parte:\n",
        "\n",
        "Célula de Memória (Memory Cell): A célula de memória é a unidade principal que mantém a informação. Ela é atualizada multiplicando o conteúdo anterior da célula de memória por um valor decidido pelo portão de esquecimento e adicionando o resultado ponderado do portão de entrada.\n",
        "\n",
        "Portão de Esquecimento (Forget Gate): Este portão decide que parte da informação anterior da célula de memória deve ser mantida. Ele recebe como entrada o estado anterior da célula de memória e a entrada atual e produz um valor entre 0 e 1 para cada elemento, representando o quanto deve ser esquecido.\n",
        "\n",
        "Portão de Entrada (Input Gate): Este portão decide quais novas informações serão armazenadas na célula de memória. É dividido em duas partes:\n",
        "\n",
        "Uma camada sigmoid que decide quais valores serão atualizados.\n",
        "\n",
        "Uma camada tanh que gera candidatos a novos valores.\n",
        "\n",
        "Atualização do Estado de Memória: A célula de memória é atualizada multiplicando o estado anterior pelo resultado do portão de esquecimento e adicionando o resultado do produto entre o portão de entrada sigmoid e a camada tanh.\n",
        "\n",
        "Portão de Saída (Output Gate): Este portão decide qual parte do estado de memória será a saída da célula. Ele passa o estado da célula de memória através de uma camada sigmoid e, em seguida, aplica uma função tanh para normalizar os valores. O resultado final é multiplicado pelo resultado do portão sigmoid para produzir a saída final.\n",
        "____________________________________________________________"
      ]
    },
    {
      "cell_type": "markdown",
      "metadata": {
        "id": "HCQO5W3bHlBT"
      },
      "source": [
        "# **Part 4 - Limpeza dos Textos**\n"
      ]
    },
    {
      "cell_type": "code",
      "execution_count": null,
      "metadata": {
        "id": "lgS3mX1Bojve"
      },
      "outputs": [],
      "source": [
        "def clean_text(text):\n",
        "    text = re.sub(r\"@[A-Za-z0-9_]+\", '', text)\n",
        "    text = re.sub(r\"https?://[A-Za-z0-9./]+\", '', text)\n",
        "    text = re.sub(r\"[^A-Za-z.!?']\", ' ', text)\n",
        "    text = re.sub(r\" +\", ' ', text)\n",
        "    return text"
      ]
    },
    {
      "cell_type": "code",
      "execution_count": null,
      "metadata": {
        "id": "jODS3tRlqDfq"
      },
      "outputs": [],
      "source": [
        "data_clean = [clean_text(text) for text in combined_data.text]"
      ]
    },
    {
      "cell_type": "code",
      "execution_count": null,
      "metadata": {
        "colab": {
          "base_uri": "https://localhost:8080/"
        },
        "id": "zZaunyq2qQD7",
        "outputId": "f317280d-6b12-4c37-b584-c9788c6a2b1b"
      },
      "outputs": [
        {
          "data": {
            "text/plain": [
              "[\"The US is to review its military support for Saudi Arabia as officials warn it will be influenced by whether the kingdom commits to a ceasefire with Houthi rebels in Yemen according to an anonymous source speaking at a press conference. The review follows a Saudi strike on a funeral in the Yemeni capital Sanaa on October which killed more than people. The attack stiffened US concerns about its role in the war which has led to the deaths of more than non combatants. Assistance may continue for the Saudi US border but this will depend on the review's internal deliberations.\",\n",
              " \"Some game developers are seeking inspiration for VR by looking to the past but Funktronix Labs has taken it one step further by releasing its first person VR RTS Cosmic Trip for the Virtual Boy. The game design studio was first taken seriously when it posted a mockup of its design on Reddit a few months ago. If we say we are going to target that platform you better freakin' believe that it is coming to that platform! said Eddie Lee founder of the studio. The company believes the move will revitalise VR displays by eschewing the complexity of cables colours and pixels.\",\n",
              " \"IntercontinentalExchange's acquisition of the NYSE Euronext for . bn will allow it to capitalise on the anticipated growth in clearing financial derivatives in the coming year. ICE will control NYSE Liffe the second largest derivatives exchange in Europe enabling it to compete against larger rival CME Group. Although stock trading has become less profitable profits from derivatives have stayed strong and new regulations due next year will increase demand for clearing over the counter derivatives. The deal threatens to reduce the clout of the NYSE with ICE paying . per share a premium to the stock's closing price on Wednesday.\"]"
            ]
          },
          "execution_count": 12,
          "metadata": {},
          "output_type": "execute_result"
        }
      ],
      "source": [
        "data_clean[0:3]"
      ]
    },
    {
      "cell_type": "code",
      "execution_count": null,
      "metadata": {
        "colab": {
          "base_uri": "https://localhost:8080/"
        },
        "id": "v4XnnMKequdd",
        "outputId": "38d031de-7736-4bb9-92a5-04563815a31e"
      },
      "outputs": [
        {
          "output_type": "execute_result",
          "data": {
            "text/plain": [
              "array([1, 1, 1, ..., 0, 0, 0])"
            ]
          },
          "metadata": {},
          "execution_count": 14
        }
      ],
      "source": [
        "data_labels = combined_data.value.values\n",
        "data_labels"
      ]
    },
    {
      "cell_type": "code",
      "execution_count": null,
      "metadata": {
        "id": "8VFfPoscq9lG"
      },
      "outputs": [],
      "source": [
        "FullTokenizer = bert.bert_tokenization.FullTokenizer\n",
        "bert_layer = hub.KerasLayer(\"https://tfhub.dev/tensorflow/bert_en_uncased_L-12_H-768_A-12/1\",\n",
        "                            trainable=False)\n",
        "vocab_file = bert_layer.resolved_object.vocab_file.asset_path.numpy()\n",
        "do_lower_case = bert_layer.resolved_object.do_lower_case.numpy()\n",
        "tokenizer = FullTokenizer(vocab_file, do_lower_case)"
      ]
    },
    {
      "cell_type": "code",
      "execution_count": null,
      "metadata": {
        "id": "iFkn663Tr4n8"
      },
      "outputs": [],
      "source": [
        "def encode_sentence(sent, max_length=512):\n",
        "    tokens = [\"[CLS]\"] + tokenizer.tokenize(sent) + [\"[SEP]\"]\n",
        "    if len(tokens) > max_length:\n",
        "        tokens = tokens[:max_length]\n",
        "        tokens[-1] = \"[SEP]\"\n",
        "    return tokens"
      ]
    },
    {
      "cell_type": "code",
      "execution_count": null,
      "metadata": {
        "colab": {
          "base_uri": "https://localhost:8080/"
        },
        "id": "ur5fCX33sLVr",
        "outputId": "6c67bd73-2e07-4ed8-80f8-a0d4bd744316"
      },
      "outputs": [
        {
          "data": {
            "text/plain": [
              "['[CLS]', 'i', 'love', 'before', '[SEP]']"
            ]
          },
          "execution_count": 182,
          "metadata": {},
          "output_type": "execute_result"
        }
      ],
      "source": [
        "encode_sentence(\"I love before\")"
      ]
    },
    {
      "cell_type": "code",
      "execution_count": null,
      "metadata": {
        "id": "k1reWTcmsOee"
      },
      "outputs": [],
      "source": [
        "data_inputs = [encode_sentence(sentence) for sentence in data_clean]"
      ]
    },
    {
      "cell_type": "code",
      "execution_count": null,
      "metadata": {
        "colab": {
          "base_uri": "https://localhost:8080/"
        },
        "id": "OnmLUanXZm35",
        "outputId": "b2f5a1ad-956a-4c7b-e18c-c99a7eb8ac05"
      },
      "outputs": [
        {
          "name": "stdout",
          "output_type": "stream",
          "text": [
            "[['[CLS]', 'jazz', '##man', 'acknowledges', 'that', 'it', 'isn', \"'\", 't', 'possible', 'to', 'ban', 'sp', '##ra', '##wl', 'based', 'on', 'personal', 'dislike', 'that', 'goes', 'against', 'america', \"'\", 's', 'freedoms', '.', 'however', 'he', 'wonders', 'if', 'there', 'are', 'any', 'efforts', 'being', 'made', 'to', 'prevent', 'it', 'and', 'how', 'one', 'might', 'mit', '##igate', 'its', 'effects', '.', 'he', 'notes', 'that', 'once', 'land', 'is', 'developed', 'it', 'becomes', 'challenging', 'to', 'reduce', 'its', 'impacts', '.', 'his', 'questions', 'are', 'not', 'meant', 'to', 'judge', 'anyone', 'he', 'is', 'simply', 'curious', 'and', 'wants', 'answers', '.', 'many', 'people', 'have', 'tried', 'to', 'accomplish', 'what', 'jazz', '##man', 'is', 'asking', 'but', 'getting', 'municipalities', 'to', 'pass', 'legislation', 'against', 'sp', '##ra', '##wl', 'and', 'promoting', 'in', '##fi', '##ll', 'development', 'is', 'complicated', '.', 'various', 'ideas', 'have', 'been', 'suggested', 'such', 'as', 'smart', 'growth', 'legislation', '##s', 'that', 'municipalities', 'can', 'borrow', 'from', 'to', 'pass', 'regulations', 'and', 'lee', '##d', 'which', 'provides', 'incentives', 'for', 'development', 'that', 'occurs', 'within', 'or', 'close', 'to', 'previously', 'built', 'areas', '.', 'however', 'achieving', 'a', 'regional', 'agreement', 'on', 'these', 'initiatives', 'is', 'challenging', '.', 'this', 'difficulty', 'results', 'from', 'several', 'reasons', 'including', 'competing', 'interests', 'and', 'partisan', 'politics', 'as', 'well', 'as', 'economic', 'reasons', '.', 'if', 'one', 'municipality', 'passes', 'smart', 'growth', 'regulations', 'the', 'neighboring', 'municipality', 'could', 'say', 'come', 'on', 'over', 'here', 'and', 'build', 'anything', 'you', 'want', 'and', 'we', \"'\", 'll', 'tax', 'it', '!', 'additionally', 'home', 'builders', 'may', 'have', 'a', 'significant', 'lobbying', 'con', '##ting', '##ency', '.', 'even', 'if', 'smart', 'growth', 'legislation', 'passes', 'it', 'may', 'be', 'watered', 'down', 'to', 'the', 'point', 'of', 'being', 'ineffective', '.', 'impact', 'fees', 'other', 'di', '##s', 'incentives', 'for', 'fringe', 'development', 'may', 'get', 'overwhelmed', 'to', 'alter', 'these', 'patterns', '.', 'the', 'only', 'thing', 'that', 'has', 'managed', 'to', 'affect', 'these', 'issues', 'is', 'the', 'economy', '.', 'paying', 'the', 'true', 'cost', 'of', 'fuel', 'could', 'be', 'significant', 'in', 'this', 'regard', 'but', 'it', 'may', 'not', 'happen', 'anytime', 'soon', '.', 'local', 'level', 'complex', '##ities', 'are', 'significant', 'and', 'states', 'and', 'regional', 'planning', 'authorities', 'need', 'to', 'develop', 'more', 'power', 'to', 'address', 'the', 'problem', 'in', 'jazz', '##man', \"'\", 's', 'opinion', '.', 'few', 'states', 'have', 'a', 'planning', 'entity', 'and', 'most', 'avoid', 'one', 'due', 'to', 'fear', 'of', 'lawsuits', '.', 'however', 'some', 'states', 'like', 'oregon', 'have', 'instituted', 'urban', 'growth', 'boundaries', 'to', 'curt', '##ail', 'sp', '##ra', '##wl', 'which', 'is', 'effective', '.', 'it', 'didn', \"'\", 't', 'go', 'unnoticed', 'by', 'farmers', 'log', '##gers', 'environmental', '##ists', 'log', '##gers', 'and', 'other', 'interests', '.', 'it', \"'\", 's', 'not', 'only', 'portland', 'that', 'has', 'such', 'boundaries', '.', '[SEP]'], ['[CLS]', 'some', 'car', 'makers', 'such', 'as', 'ferrari', 'lamb', '##org', '##hini', 'and', 'bug', '##att', '##i', 'are', 'well', 'known', 'in', 'the', 'world', 'of', 'super', '##cars', '.', 'however', 'there', 'are', 'boutique', 'auto', '##makers', 'that', 'create', 'outrageous', '##ly', 'expensive', 'and', 'fast', 'cars', 'in', 'small', 'quantities', 'which', 'are', 'just', 'as', 'impressive', '.', 'one', 'of', 'the', 'cool', '##est', 'producers', 'of', 'such', 'vehicles', 'is', 'the', 'dutch', 'company', 'called', 'spy', '##ker', '.', 'since', 'the', 'company', 'has', 'been', 'manufacturing', 'approximately', 'sixty', 'sports', 'cars', 'each', 'year', '.', 'spy', '##ker', 'began', 'making', 'coaches', 'in', 'not', 'auto', '##s', 'yet', 'switched', 'to', 'automobile', 'production', 'in', 'and', 'started', 'manufacturing', 'airplanes', 'during', 'w', '##wi', '.', 'it', 'was', 'closed', 'in', 'after', 'bankruptcy', 'and', 'only', 're', '##eme', '##rge', '##d', 'in', 's', 'after', 'victor', 'muller', 'revived', 'the', 'firm', '.', 'last', 'month', 'spy', '##ker', 'unveiled', 'its', 'new', 'super', '##car', 'the', 'c', 'ai', '##ler', '##on', 'spy', '##der', 'at', 'monterey', 'california', 'during', 'the', 'pe', '##bble', 'beach', 'con', '##co', '##urs', 'd', \"'\", 'elegance', 'event', '.', 'however', 'the', 'car', 'that', 'sparked', 'people', \"'\", 's', 'interest', 'was', 'the', 'c', 'spy', '##der', 'sw', '##b', 'at', 'the', 'auction', 'of', 'sports', 'classics', 'of', 'monterey', 'that', 'was', 'spotted', 'by', 'the', 'photographer', '.', 'the', 'design', 'of', 'the', 'spy', '##der', 'sw', '##b', 'draws', 'from', 'its', 'aviation', 'legacy', 'and', 'its', 'style', 'reflects', 'its', 'heritage', 'resulting', 'in', 'many', 'different', 'personal', 'preferences', '.', 'the', 'spy', '##ker', 'logo', 'consists', 'of', 'a', 'wheel', 'and', 'a', 'propeller', 'symbol', '##izing', 'how', 'the', 'company', 'built', 'roughly', 'fighter', 'planes', 'and', 'aircraft', 'engines', 'during', 'w', '##wi', '.', 'its', 'interior', 'has', 'turned', 'aluminum', 'panels', 'machine', '##d', 'switches', 'and', 'a', 'polished', 'metal', 'industrial', 'chi', '##c', 'feel', '.', 'the', 'vehicle', \"'\", 's', 'price', 'is', 'higher', 'than', 'and', 'it', 'is', 'available', 'in', 'a', 'wide', 'range', 'of', 'paint', 'and', 'interior', 'colors', '.', 'as', 'a', 'result', 'spy', '##ker', 'also', 'offers', 'an', 'optional', 'louis', 'vu', '##itt', '##on', 'luggage', 'set', 'just', 'in', 'case', 'the', 'client', \"'\", 's', 'bag', 'clashes', 'with', 'his', 'or', 'her', 'car', '.', 'the', 'car', \"'\", 's', 'motto', 'null', '##a', 'ten', '##ac', '##i', 'in', '##via', 'est', 'via', 'has', 'been', 'spy', '##ker', \"'\", 's', 'slogan', 'since', 'and', 'it', 'translates', 'to', 'for', 'the', 'ten', '##acious', 'no', 'road', 'is', 'imp', '##ass', '##able', '.', 'the', 'spy', '##der', 'has', 'a', '.', 'liter', 'v', 'engine', 'with', 'horsepower', 'mounted', 'in', 'the', 'middle', 'of', 'the', 'automobile', 'and', 'is', 'coupled', 'with', 'a', 'six', 'speed', 'manual', 'with', 'a', 'thrilling', 'exposed', 'shift', 'link', '##age', '.', 'the', 'spy', '##ker', \"'\", 's', 'acceleration', 'time', 'from', 'is', '.', 'seconds', 'with', 'a', 'maximum', 'speed', 'of', 'mph', '.', 'the', 'company', \"'\", 's', 'logo', 'can', 'be', 'noticed', 'in', 'various', 'locations', 'around', 'the', 'car', 'including', 'the', 'hood', 'and', 'rear', 'deck', '.', 'given', 'the', 'company', \"'\", 's', 'emphasis', 'on', 'aviation', 'the', 'luggage', 'rack', 'and', 'gas', 'cap', 'incorporate', 'that', 'heritage', '.', 'in', 'addition', 'the', 'spy', '##ker', 'c', 'ai', '##ler', '##on', 'spy', '##der', 'features', 'a', 'horsepower', '.', 'liter', 'v', 'obtained', 'from', 'the', 'audi', 'parts', 'bin', '.', 'this', 'model', 'is', 'the', 'first', 'ever', 'spy', '##ker', 'that', 'includes', 'either', 'an', 'automatic', 'or', 'a', 'six', 'speed', 'manual', 'transmission', '.', 'according', 'to', 'spy', '##ker', 'its', 'acceleration', 'is', '.', 'seconds', 'with', 'a', 'maximum', 'speed', 'of', 'mph', '.', 'over', 'this', 'gorgeous', 'automobile', 'it', 'carries', 'an', 'aluminum', 'suitcase', 'shaped', 'like', 'the', 'red', 'wing', 'on', 'its', '[SEP]']]\n"
          ]
        }
      ],
      "source": [
        "print(data_inputs[0:2])"
      ]
    },
    {
      "cell_type": "markdown",
      "metadata": {
        "id": "iwVZgEANXvmm"
      },
      "source": [
        "## Criação da Base de Dados"
      ]
    },
    {
      "cell_type": "code",
      "execution_count": null,
      "metadata": {
        "id": "8AmIzMwZsTx1"
      },
      "outputs": [],
      "source": [
        "def get_ids(tokens):\n",
        "  return tokenizer.convert_tokens_to_ids(tokens)"
      ]
    },
    {
      "cell_type": "code",
      "execution_count": null,
      "metadata": {
        "colab": {
          "base_uri": "https://localhost:8080/"
        },
        "id": "5Mmg3z2puWkr",
        "outputId": "423ab7f6-25d4-45e6-9709-595431ef2acf"
      },
      "outputs": [
        {
          "data": {
            "text/plain": [
              "array(False)"
            ]
          },
          "execution_count": 18,
          "metadata": {},
          "output_type": "execute_result"
        }
      ],
      "source": [
        "np.char.not_equal(\"[PAD]\", \"[PAD]\")"
      ]
    },
    {
      "cell_type": "code",
      "execution_count": null,
      "metadata": {
        "id": "f6J4qnV5_cnq"
      },
      "outputs": [],
      "source": [
        "def get_mask(tokens):\n",
        "  return np.char.not_equal(tokens, \"[PAD]\").astype(int)"
      ]
    },
    {
      "cell_type": "code",
      "execution_count": null,
      "metadata": {
        "colab": {
          "base_uri": "https://localhost:8080/"
        },
        "id": "tkmT49ga_S_3",
        "outputId": "8c252c06-7f82-49e8-811c-2fea5e7f3a46"
      },
      "outputs": [
        {
          "data": {
            "text/plain": [
              "array([1, 1, 1, 1, 1, 1])"
            ]
          },
          "execution_count": 22,
          "metadata": {},
          "output_type": "execute_result"
        }
      ],
      "source": [
        "get_mask(tokenizer.tokenize(\"My dog likes strawberries.\"))"
      ]
    },
    {
      "cell_type": "code",
      "execution_count": null,
      "metadata": {
        "id": "0l7C85bA_UCC"
      },
      "outputs": [],
      "source": [
        "def get_segments(tokens):\n",
        "  seg_ids = []\n",
        "  current_seg_id = 0\n",
        "  for tok in tokens:\n",
        "    seg_ids.append(current_seg_id)\n",
        "    if tok == \"[SEP]\":\n",
        "      current_seg_id = 1 - current_seg_id\n",
        "  return seg_ids"
      ]
    },
    {
      "cell_type": "code",
      "execution_count": null,
      "metadata": {
        "id": "4IOgn7w_ZZva"
      },
      "outputs": [],
      "source": [
        "data_with_len = [[sent, data_labels[i], len(sent)]\n",
        "                 for i, sent in enumerate(data_inputs)]\n",
        "random.shuffle(data_with_len)\n",
        "data_with_len.sort(key = lambda x: x[2])\n",
        "sorted_all = [([get_ids(sent_lab[0]),\n",
        "               get_mask(sent_lab[0]),\n",
        "               get_segments(sent_lab[0])],\n",
        "              sent_lab[1])\n",
        "              for sent_lab in data_with_len if sent_lab[2] > 7]"
      ]
    },
    {
      "cell_type": "code",
      "execution_count": null,
      "metadata": {
        "colab": {
          "base_uri": "https://localhost:8080/"
        },
        "id": "uNZlN9e1ZpQc",
        "outputId": "40d009ac-6a3e-49cc-f6b8-08fd57c7be18"
      },
      "outputs": [
        {
          "data": {
            "text/plain": [
              "([[101,\n",
              "   1996,\n",
              "   20423,\n",
              "   2003,\n",
              "   2525,\n",
              "   1999,\n",
              "   3674,\n",
              "   20423,\n",
              "   2015,\n",
              "   2061,\n",
              "   2053,\n",
              "   16360,\n",
              "   13492,\n",
              "   7741,\n",
              "   4072,\n",
              "   1012,\n",
              "   102],\n",
              "  array([1, 1, 1, 1, 1, 1, 1, 1, 1, 1, 1, 1, 1, 1, 1, 1, 1]),\n",
              "  [0, 0, 0, 0, 0, 0, 0, 0, 0, 0, 0, 0, 0, 0, 0, 0, 0]],\n",
              " 1)"
            ]
          },
          "execution_count": 20,
          "metadata": {},
          "output_type": "execute_result"
        }
      ],
      "source": [
        "sorted_all[0]"
      ]
    },
    {
      "cell_type": "code",
      "execution_count": null,
      "metadata": {
        "id": "5BRN1sHOfBAP"
      },
      "outputs": [],
      "source": [
        "all_dataset = tf.data.Dataset.from_generator(lambda: sorted_all,\n",
        "                                             output_types=(tf.int32, tf.int32))"
      ]
    },
    {
      "cell_type": "code",
      "execution_count": null,
      "metadata": {
        "id": "vvGkm4p4Ak-t"
      },
      "outputs": [],
      "source": [
        "BATCH_SIZE = 64\n",
        "all_batched = all_dataset.padded_batch(BATCH_SIZE,\n",
        "                                       padded_shapes=((3, None), ()),\n",
        "                                       padding_values=(0, 0))"
      ]
    },
    {
      "cell_type": "code",
      "execution_count": null,
      "metadata": {
        "id": "z5-1JRoqcy2S"
      },
      "outputs": [],
      "source": [
        "NB_BATCHES = len(sorted_all) // BATCH_SIZE\n",
        "NB_BATCHES_TEST = NB_BATCHES // 2\n",
        "all_batched.shuffle(NB_BATCHES)\n",
        "test_dataset = all_batched.take(NB_BATCHES_TEST)\n",
        "train_dataset = all_batched.skip(NB_BATCHES_TEST)"
      ]
    },
    {
      "cell_type": "code",
      "execution_count": null,
      "metadata": {
        "colab": {
          "base_uri": "https://localhost:8080/"
        },
        "id": "XSqmVo3AqaDh",
        "outputId": "4de5110c-9fd8-472d-f076-81ab3070a66e"
      },
      "outputs": [
        {
          "name": "stdout",
          "output_type": "stream",
          "text": [
            "Tamanho total do conjunto de dados de treinamento: 458\n"
          ]
        }
      ],
      "source": [
        "train_data_list = list(train_dataset)\n",
        "\n",
        "total_size_train_dataset = len(train_data_list)\n",
        "\n",
        "print(\"Tamanho total do conjunto de dados de treinamento:\", total_size_train_dataset)"
      ]
    },
    {
      "cell_type": "code",
      "execution_count": null,
      "metadata": {
        "colab": {
          "base_uri": "https://localhost:8080/"
        },
        "id": "KcLN1f5gcU8v",
        "outputId": "4a2f141f-09d7-49f8-e1dc-80a49b64eab9"
      },
      "outputs": [
        {
          "data": {
            "text/plain": [
              "476"
            ]
          },
          "execution_count": 64,
          "metadata": {},
          "output_type": "execute_result"
        }
      ],
      "source": [
        "len(sorted_all)"
      ]
    },
    {
      "cell_type": "code",
      "execution_count": null,
      "metadata": {
        "colab": {
          "base_uri": "https://localhost:8080/"
        },
        "id": "C58-suPqcZHe",
        "outputId": "ed170d15-9e0b-44d2-ead1-f855264e20b6"
      },
      "outputs": [
        {
          "data": {
            "text/plain": [
              "914"
            ]
          },
          "execution_count": 28,
          "metadata": {},
          "output_type": "execute_result"
        }
      ],
      "source": [
        "NB_BATCHES_TEST"
      ]
    },
    {
      "cell_type": "markdown",
      "metadata": {
        "id": "avLE1go_EF2o"
      },
      "source": [
        "# **Part 5 - Construção do Modelo**\n"
      ]
    },
    {
      "cell_type": "markdown",
      "metadata": {
        "id": "wXPyKQ7k8Zdz"
      },
      "source": [
        "\n",
        "### **Arquitetura DCNNBERT**\n"
      ]
    },
    {
      "cell_type": "code",
      "execution_count": null,
      "metadata": {
        "id": "892Uss6iapcA"
      },
      "outputs": [],
      "source": [
        "class DCNNBERTEmbedding(tf.keras.Model):\n",
        "\n",
        "    def __init__(self,\n",
        "                 nb_filters=50,\n",
        "                 FFN_units=512,\n",
        "                 nb_classes=2,\n",
        "                 dropout_rate=0.1,\n",
        "                 name=\"dcnn\"):\n",
        "        super(DCNNBERTEmbedding, self).__init__(name=name)\n",
        "\n",
        "        self.bert_layer = hub.KerasLayer(\"https://tfhub.dev/tensorflow/bert_en_uncased_L-12_H-768_A-12/1\",\n",
        "                                         trainable = False)\n",
        "\n",
        "        self.bigram = layers.Conv1D(filters=nb_filters,\n",
        "                                    kernel_size=2,\n",
        "                                    padding=\"valid\",\n",
        "                                    activation=\"relu\")\n",
        "        self.trigram = layers.Conv1D(filters=nb_filters,\n",
        "                                     kernel_size=3,\n",
        "                                     padding=\"valid\",\n",
        "                                     activation=\"relu\")\n",
        "        self.fourgram = layers.Conv1D(filters=nb_filters,\n",
        "                                      kernel_size=4,\n",
        "                                      padding=\"valid\",\n",
        "                                      activation=\"relu\")\n",
        "        self.pool = layers.GlobalMaxPool1D()\n",
        "        self.dense_1 = layers.Dense(units=FFN_units, activation=\"relu\")\n",
        "        self.dropout = layers.Dropout(rate=dropout_rate)\n",
        "        if nb_classes == 2:\n",
        "            self.last_dense = layers.Dense(units=1,\n",
        "                                           activation=\"sigmoid\")\n",
        "        else:\n",
        "            self.last_dense = layers.Dense(units=nb_classes,\n",
        "                                           activation=\"softmax\")\n",
        "\n",
        "    def embed_with_bert(self, all_tokens):\n",
        "      _, embs = self.bert_layer([all_tokens[:, 0, :],\n",
        "                                 all_tokens[:, 1, :],\n",
        "                                 all_tokens[:, 2, :]])\n",
        "      return embs\n",
        "\n",
        "    def call(self, inputs, training):\n",
        "        x = self.embed_with_bert(inputs)\n",
        "\n",
        "        x_1 = self.bigram(x)\n",
        "        x_1 = self.pool(x_1)\n",
        "        x_2 = self.trigram(x)\n",
        "        x_2 = self.pool(x_2)\n",
        "        x_3 = self.fourgram(x)\n",
        "        x_3 = self.pool(x_3)\n",
        "\n",
        "        merged = tf.concat([x_1, x_2, x_3], axis=-1)\n",
        "        merged = self.dense_1(merged)\n",
        "        merged = self.dropout(merged, training)\n",
        "        output = self.last_dense(merged)\n",
        "\n",
        "        return output"
      ]
    },
    {
      "cell_type": "markdown",
      "metadata": {
        "id": "Xl5-4cJWatfK"
      },
      "source": [
        "# **Part 6 - Treinamento do Modelo**\n"
      ]
    },
    {
      "cell_type": "markdown",
      "metadata": {
        "id": "t2pe58Wa8eWM"
      },
      "source": [
        "\n",
        "### **Definição de Hiperparamêtros**\n"
      ]
    },
    {
      "cell_type": "code",
      "execution_count": null,
      "metadata": {
        "id": "pHVU8EuXaxPC"
      },
      "outputs": [],
      "source": [
        "NB_FILTERS = 100\n",
        "FFN_UNITS = 256\n",
        "NB_CLASSES = 2\n",
        "DROPOUT_RATE = 0.5\n",
        "BATCH_SIZE = 32\n",
        "NB_EPOCHS = 3"
      ]
    },
    {
      "cell_type": "code",
      "execution_count": null,
      "metadata": {
        "id": "UsJPbdoTazD9"
      },
      "outputs": [],
      "source": [
        "Dcnn = DCNNBERTEmbedding(nb_filters=NB_FILTERS,\n",
        "                         FFN_units=FFN_UNITS,\n",
        "                         nb_classes=NB_CLASSES,\n",
        "                         dropout_rate=DROPOUT_RATE)"
      ]
    },
    {
      "cell_type": "code",
      "execution_count": null,
      "metadata": {
        "id": "Zx5Fl0Sca0mv"
      },
      "outputs": [],
      "source": [
        "if NB_CLASSES == 2:\n",
        "    Dcnn.compile(loss=\"binary_crossentropy\",\n",
        "                 optimizer=\"adam\",\n",
        "                 metrics=[\"accuracy\"])\n",
        "else:\n",
        "    Dcnn.compile(loss=\"sparse_categorical_crossentropy\",\n",
        "                 optimizer=\"adam\",\n",
        "                 metrics=[\"sparse_categorical_accuracy\"])"
      ]
    },
    {
      "cell_type": "code",
      "execution_count": null,
      "metadata": {
        "colab": {
          "base_uri": "https://localhost:8080/"
        },
        "id": "fl1_YUsDa5sP",
        "outputId": "f8374647-7949-4f14-8d65-b3332ee1eafc"
      },
      "outputs": [
        {
          "output_type": "stream",
          "name": "stdout",
          "text": [
            "Latest checkpoint restored!!\n"
          ]
        }
      ],
      "source": [
        "checkpoint_path = \"/content/drive/MyDrive/opengpttext-clean/fine_tuning_models_64\"\n",
        "\n",
        "ckpt = tf.train.Checkpoint(Dcnn=Dcnn)\n",
        "\n",
        "ckpt_manager = tf.train.CheckpointManager(ckpt, checkpoint_path, max_to_keep=1)\n",
        "\n",
        "if ckpt_manager.latest_checkpoint:\n",
        "    ckpt.restore(ckpt_manager.latest_checkpoint)\n",
        "    print(\"Latest checkpoint restored!!\")"
      ]
    },
    {
      "cell_type": "code",
      "execution_count": null,
      "metadata": {
        "id": "LX1QIsz9a_uV"
      },
      "outputs": [],
      "source": [
        "class MyCustomCallBack(tf.keras.callbacks.Callback):\n",
        "\n",
        "    def on_epoch_end(self, epoch, logs=None):\n",
        "        ckpt_manager.save()\n",
        "        print(\"Checkpoint saved at {}.\".format(checkpoint_path))"
      ]
    },
    {
      "cell_type": "code",
      "execution_count": null,
      "metadata": {
        "colab": {
          "base_uri": "https://localhost:8080/"
        },
        "id": "yriNz_Axip4_",
        "outputId": "cbc8053d-86a3-4c5f-f92a-e5e74679a3bc"
      },
      "outputs": [
        {
          "name": "stdout",
          "output_type": "stream",
          "text": [
            "Epoch 1/3\n",
            "    458/Unknown - 315s 638ms/step - loss: 0.2062 - accuracy: 0.9192Checkpoint saved at /content/drive/MyDrive/opengpttext-clean/fine_tuning_models_64.\n",
            "458/458 [==============================] - 317s 642ms/step - loss: 0.2062 - accuracy: 0.9192\n",
            "Epoch 2/3\n",
            "458/458 [==============================] - ETA: 0s - loss: 0.0934 - accuracy: 0.9660Checkpoint saved at /content/drive/MyDrive/opengpttext-clean/fine_tuning_models_64.\n",
            "458/458 [==============================] - 242s 518ms/step - loss: 0.0934 - accuracy: 0.9660\n",
            "Epoch 3/3\n",
            "458/458 [==============================] - ETA: 0s - loss: 0.0550 - accuracy: 0.9800Checkpoint saved at /content/drive/MyDrive/opengpttext-clean/fine_tuning_models_64.\n",
            "458/458 [==============================] - 242s 518ms/step - loss: 0.0550 - accuracy: 0.9800\n"
          ]
        }
      ],
      "source": [
        "history = Dcnn.fit(train_dataset,\n",
        "                   epochs=NB_EPOCHS,\n",
        "                   callbacks=[MyCustomCallBack()])"
      ]
    },
    {
      "cell_type": "markdown",
      "metadata": {
        "id": "_jn3kMcDDCFC"
      },
      "source": [
        "# Part 7 - Métricas de Avaliação"
      ]
    },
    {
      "cell_type": "code",
      "execution_count": null,
      "metadata": {
        "colab": {
          "base_uri": "https://localhost:8080/"
        },
        "id": "R-UrUIwg8aso",
        "outputId": "0d20bec4-5b8d-43f4-8204-833ac4f6fd57"
      },
      "outputs": [
        {
          "name": "stdout",
          "output_type": "stream",
          "text": [
            "457/457 [==============================] - 112s 243ms/step\n"
          ]
        }
      ],
      "source": [
        "y_pred = Dcnn.predict(test_dataset)\n",
        "\n",
        "y_true = np.concatenate([y for x, y in test_dataset], axis=0)"
      ]
    },
    {
      "cell_type": "markdown",
      "metadata": {
        "id": "BNda2UWiJWpr"
      },
      "source": [
        "\n",
        "### **Avaliação do Modelo**\n"
      ]
    },
    {
      "cell_type": "code",
      "execution_count": null,
      "metadata": {
        "colab": {
          "base_uri": "https://localhost:8080/"
        },
        "id": "bLiiTOydjqJS",
        "outputId": "5ea157b9-5203-4eae-dc25-712b5642f478"
      },
      "outputs": [
        {
          "name": "stdout",
          "output_type": "stream",
          "text": [
            "457/457 [==============================] - 112s 246ms/step - loss: 0.1896 - accuracy: 0.9312\n",
            "[0.18962319195270538, 0.9311747550964355]\n"
          ]
        }
      ],
      "source": [
        "results = Dcnn.evaluate(test_dataset)\n",
        "print(results)"
      ]
    },
    {
      "cell_type": "markdown",
      "metadata": {
        "id": "vJMVoAZkI1CO"
      },
      "source": [
        "\n",
        "### **Matriz de Confusão**\n"
      ]
    },
    {
      "cell_type": "code",
      "execution_count": null,
      "metadata": {
        "colab": {
          "base_uri": "https://localhost:8080/"
        },
        "id": "cmuciCUOq2pT",
        "outputId": "efca0ec4-7537-4c53-b44b-d5276d6a818a"
      },
      "outputs": [
        {
          "name": "stdout",
          "output_type": "stream",
          "text": [
            "Confusion Matrix:\n",
            "[[ 7782   486]\n",
            " [ 1527 19453]]\n"
          ]
        }
      ],
      "source": [
        "from sklearn.metrics import confusion_matrix\n",
        "\n",
        "conf_matrix = confusion_matrix(y_true, y_pred > 0.5)\n",
        "print(\"Confusion Matrix:\")\n",
        "print(conf_matrix)"
      ]
    },
    {
      "cell_type": "code",
      "execution_count": null,
      "metadata": {
        "colab": {
          "base_uri": "https://localhost:8080/",
          "height": 564
        },
        "id": "Td0k8fE1n8iO",
        "outputId": "d6eb8544-9a72-4701-df38-8b74df2376b8"
      },
      "outputs": [
        {
          "data": {
            "image/png": "[encoded data removed]",
            "text/plain": [
              "<Figure size 800x600 with 2 Axes>"
            ]
          },
          "metadata": {},
          "output_type": "display_data"
        }
      ],
      "source": [
        "import matplotlib.pyplot as plt\n",
        "import seaborn as sns\n",
        "from sklearn.metrics import confusion_matrix\n",
        "\n",
        "conf_matrix = confusion_matrix(y_true, y_pred > 0.5)\n",
        "\n",
        "plt.figure(figsize=(8, 6))\n",
        "sns.heatmap(conf_matrix, annot=True, fmt=\"d\", cmap=\"Blues\")\n",
        "plt.title(\"Matriz de Confusão\")\n",
        "plt.xlabel(\"Predicted labels\")\n",
        "plt.ylabel(\"True labels\")\n",
        "plt.show()"
      ]
    },
    {
      "cell_type": "markdown",
      "metadata": {
        "id": "mlthiRHLrIbu"
      },
      "source": [
        "\n",
        "### **Precision**\n"
      ]
    },
    {
      "cell_type": "code",
      "execution_count": null,
      "metadata": {
        "colab": {
          "base_uri": "https://localhost:8080/"
        },
        "id": "wzddeAk5rKl-",
        "outputId": "1b6e156c-194c-4e51-a071-7c66754192a2"
      },
      "outputs": [
        {
          "name": "stdout",
          "output_type": "stream",
          "text": [
            "Precision: 0.975625658257686\n"
          ]
        }
      ],
      "source": [
        "from sklearn.metrics import precision_score\n",
        "\n",
        "precision = precision_score(y_true, y_pred > 0.5)\n",
        "print(\"Precision:\", precision)"
      ]
    },
    {
      "cell_type": "code",
      "execution_count": null,
      "metadata": {
        "colab": {
          "base_uri": "https://localhost:8080/",
          "height": 391
        },
        "id": "SiMnZ7NPoDi-",
        "outputId": "32afa73a-ae09-4cc7-b40f-c666a2d96bcf"
      },
      "outputs": [
        {
          "data": {
            "image/png": "[encoded data removed]",
            "text/plain": [
              "<Figure size 600x400 with 1 Axes>"
            ]
          },
          "metadata": {},
          "output_type": "display_data"
        }
      ],
      "source": [
        "import matplotlib.pyplot as plt\n",
        "import numpy as np\n",
        "\n",
        "precision = precision_score(y_true, y_pred > 0.5)\n",
        "\n",
        "labels = ['Precision']\n",
        "values = [precision]\n",
        "\n",
        "plt.figure(figsize=(6, 4))\n",
        "plt.bar(labels, values, color='blue')\n",
        "plt.title('Precision Score')\n",
        "plt.ylim(0, 1)\n",
        "plt.ylabel('Precision')\n",
        "plt.show()"
      ]
    },
    {
      "cell_type": "markdown",
      "metadata": {
        "id": "Jbs5Ej_-I8Th"
      },
      "source": [
        "\n",
        "### **ROC-AUC Score**\n"
      ]
    },
    {
      "cell_type": "code",
      "execution_count": null,
      "metadata": {
        "colab": {
          "base_uri": "https://localhost:8080/"
        },
        "id": "rY6rRKFRqzhC",
        "outputId": "a91f0404-f967-42a5-f4f1-b392699b36d2"
      },
      "outputs": [
        {
          "name": "stdout",
          "output_type": "stream",
          "text": [
            "ROC-AUC Score: 0.9839200994519628\n"
          ]
        }
      ],
      "source": [
        "from sklearn.metrics import roc_auc_score\n",
        "\n",
        "roc_auc = roc_auc_score(y_true, y_pred)\n",
        "print(\"ROC-AUC Score:\", roc_auc)"
      ]
    },
    {
      "cell_type": "code",
      "execution_count": null,
      "metadata": {
        "colab": {
          "base_uri": "https://localhost:8080/",
          "height": 391
        },
        "id": "7vTNywD0oKXB",
        "outputId": "2960a540-d9b1-41c3-c8fd-c5a6b06c6305"
      },
      "outputs": [
        {
          "data": {
            "image/png": "[encoded data removed]",
            "text/plain": [
              "<Figure size 600x400 with 1 Axes>"
            ]
          },
          "metadata": {},
          "output_type": "display_data"
        }
      ],
      "source": [
        "import matplotlib.pyplot as plt\n",
        "\n",
        "roc_auc = roc_auc_score(y_true, y_pred)\n",
        "\n",
        "labels = ['ROC-AUC Score']\n",
        "values = [roc_auc]\n",
        "\n",
        "plt.figure(figsize=(6, 4))\n",
        "plt.bar(labels, values, color='green')\n",
        "plt.title('ROC-AUC Score')\n",
        "plt.ylim(0, 1)\n",
        "plt.ylabel('ROC-AUC Score')\n",
        "plt.show()"
      ]
    },
    {
      "cell_type": "markdown",
      "metadata": {
        "id": "F3Ur_LekoaZ5"
      },
      "source": [
        "\n",
        "### **Recall**\n"
      ]
    },
    {
      "cell_type": "code",
      "execution_count": null,
      "metadata": {
        "colab": {
          "base_uri": "https://localhost:8080/"
        },
        "id": "fSqTPyXbobtM",
        "outputId": "73f19f11-9110-4766-b279-484dc3987f83"
      },
      "outputs": [
        {
          "name": "stdout",
          "output_type": "stream",
          "text": [
            "Recall: 0.9272163965681601\n"
          ]
        }
      ],
      "source": [
        "from sklearn.metrics import recall_score\n",
        "\n",
        "recall = recall_score(y_true, y_pred > 0.5)\n",
        "print(\"Recall:\", recall)"
      ]
    },
    {
      "cell_type": "markdown",
      "metadata": {
        "id": "cwyJcEI2og9e"
      },
      "source": [
        "\n",
        "### **F1-Score**\n"
      ]
    },
    {
      "cell_type": "code",
      "execution_count": null,
      "metadata": {
        "colab": {
          "base_uri": "https://localhost:8080/"
        },
        "id": "mxldgxrjol7F",
        "outputId": "5d75a4aa-5284-4eb2-b06d-62cc0d0d791a"
      },
      "outputs": [
        {
          "name": "stdout",
          "output_type": "stream",
          "text": [
            "F1-Score: 0.9508052493951465\n"
          ]
        }
      ],
      "source": [
        "from sklearn.metrics import f1_score\n",
        "\n",
        "f1 = f1_score(y_true, y_pred > 0.5)\n",
        "print(\"F1-Score:\", f1)"
      ]
    },
    {
      "cell_type": "markdown",
      "metadata": {
        "id": "EZnrQetKoyQ-"
      },
      "source": [
        "### **Curva ROC (Receiver Operating Characteristic)**\n"
      ]
    },
    {
      "cell_type": "code",
      "execution_count": null,
      "metadata": {
        "colab": {
          "base_uri": "https://localhost:8080/",
          "height": 472
        },
        "id": "Uyy0gKaWoy-p",
        "outputId": "e89ac841-6951-4134-c6dd-54ad47673970"
      },
      "outputs": [
        {
          "data": {
            "image/png": "[encoded data removed]",
            "text/plain": [
              "<Figure size 640x480 with 1 Axes>"
            ]
          },
          "metadata": {},
          "output_type": "display_data"
        }
      ],
      "source": [
        "from sklearn.metrics import roc_curve\n",
        "\n",
        "fpr, tpr, thresholds = roc_curve(y_true, y_pred)\n",
        "plt.plot(fpr, tpr)\n",
        "plt.xlabel('False Positive Rate')\n",
        "plt.ylabel('True Positive Rate')\n",
        "plt.title('ROC Curve')\n",
        "plt.show()"
      ]
    },
    {
      "cell_type": "markdown",
      "metadata": {
        "id": "Ikdbh9EEpGZe"
      },
      "source": [
        "### **Curva Precision-Recall:**"
      ]
    },
    {
      "cell_type": "code",
      "execution_count": null,
      "metadata": {
        "colab": {
          "base_uri": "https://localhost:8080/",
          "height": 472
        },
        "id": "inwGC3BPpGtV",
        "outputId": "23d23101-2c3e-4b78-f07d-34dc1b78859d"
      },
      "outputs": [
        {
          "data": {
            "image/png": "[encoded data removed]",
            "text/plain": [
              "<Figure size 640x480 with 1 Axes>"
            ]
          },
          "metadata": {},
          "output_type": "display_data"
        }
      ],
      "source": [
        "from sklearn.metrics import precision_recall_curve\n",
        "\n",
        "precision, recall, thresholds = precision_recall_curve(y_true, y_pred)\n",
        "plt.plot(recall, precision)\n",
        "plt.xlabel('Recall')\n",
        "plt.ylabel('Precision')\n",
        "plt.title('Precision-Recall Curve')\n",
        "plt.show()"
      ]
    },
    {
      "cell_type": "markdown",
      "metadata": {
        "id": "2RFnXWnf2lLO"
      },
      "source": [
        "# Part 8 - Uso do Modelo"
      ]
    },
    {
      "cell_type": "markdown",
      "metadata": {
        "id": "c3f0dJ2eJ_yS"
      },
      "source": [
        "\n",
        "### **Função do uso em Inglês**\n"
      ]
    },
    {
      "cell_type": "code",
      "execution_count": null,
      "metadata": {
        "id": "fXNIxnPqDMRp"
      },
      "outputs": [],
      "source": [
        "def get_prediction(sentence):\n",
        "  tokens = encode_sentence(sentence)\n",
        "\n",
        "  input_ids = get_ids(tokens)\n",
        "  input_mask = get_mask(tokens)\n",
        "  segment_ids = get_segments(tokens)\n",
        "\n",
        "  inputs = tf.stack(\n",
        "      [\n",
        "       tf.cast(input_ids, dtype=tf.int32),\n",
        "       tf.cast(input_mask, dtype=tf.int32),\n",
        "       tf.cast(segment_ids, dtype=tf.int32),\n",
        "      ], axis = 0)\n",
        "  inputs = tf.expand_dims(inputs, 0)\n",
        "\n",
        "  output = Dcnn(inputs, training=False)\n",
        "\n",
        "  sentiment = math.floor(output*2)\n",
        "\n",
        "  if sentiment == 0:\n",
        "    print(\"Output of the model: {}\\nPredicted text GPT: negative\".format(output))\n",
        "  elif sentiment == 1:\n",
        "    print(\"Output of the model: {}\\nPredicted text GPT: positive\".format(output))"
      ]
    },
    {
      "cell_type": "markdown",
      "metadata": {
        "id": "577o_Io8ip94"
      },
      "source": [
        "\n",
        "### **Função do uso em Português**\n"
      ]
    },
    {
      "cell_type": "code",
      "execution_count": null,
      "metadata": {
        "id": "K8F7OSP4hrT2"
      },
      "outputs": [],
      "source": [
        "from googletrans import Translator\n",
        "\n",
        "def get_predictions_portugues(sentence):\n",
        "    translator = Translator()\n",
        "    translated_sentence = translator.translate(sentence, src='pt', dest='en').text\n",
        "\n",
        "    tokens = encode_sentence(translated_sentence)\n",
        "\n",
        "    input_ids = get_ids(tokens)\n",
        "    input_mask = get_mask(tokens)\n",
        "    segment_ids = get_segments(tokens)\n",
        "\n",
        "    inputs = tf.stack(\n",
        "        [\n",
        "            tf.cast(input_ids, dtype=tf.int32),\n",
        "            tf.cast(input_mask, dtype=tf.int32),\n",
        "            tf.cast(segment_ids, dtype=tf.int32),\n",
        "        ], axis=0)\n",
        "    inputs = tf.expand_dims(inputs, 0)\n",
        "\n",
        "    output = Dcnn(inputs, training=False)\n",
        "\n",
        "    sentiment = math.floor(output * 2)\n",
        "\n",
        "    if sentiment == 0:\n",
        "        print(\"Output of the model: {}\\nPredicted text GPT: negative\".format(output))\n",
        "    elif sentiment == 1:\n",
        "        print(\"Output of the model: {}\\nPredicted text GPT: positive\".format(output))\n"
      ]
    },
    {
      "cell_type": "code",
      "execution_count": null,
      "metadata": {
        "colab": {
          "base_uri": "https://localhost:8080/"
        },
        "id": "j7Cm0qKIiUPS",
        "outputId": "b5332795-5702-4922-e18e-1181c59a8e3b"
      },
      "outputs": [
        {
          "name": "stdout",
          "output_type": "stream",
          "text": [
            "Output of the model: [[0.89236397]]\n",
            "Predicted text GPT: positive\n"
          ]
        }
      ],
      "source": [
        "get_predictions_portugues(\"No campo do aprendizado de máquina, discutimos os desafios enfrentados na construção de modelos robustos e escaláveis, bem como questões éticas relacionadas à interpretabilidade e equidade dos algoritmos. Na visão computacional, examinamos os avanços recentes na detecção e reconhecimento de objetos, bem como os obstáculos remanescentes na compreensão de contextos complexos e cenários dinâmicos. Em relação ao processamento de linguagem natural, investigamos as limitações atuais na compreensão semântica e na geração de texto coerente, além das implicações éticas do uso de modelos de linguagem de grande escala.\")"
      ]
    },
    {
      "cell_type": "code",
      "source": [
        "get_prediction(\"A Sturdy Woman. As a month slips away With no one bothering to inquire about her deeds Fulfilling what he left undone With emotions in scarce supply Calling out for heavenly assistance To avoid going insane and becoming a defendant Mapping out plans on a sheet of paper Constructing yet another tower of Babel in the process I won't deceive And certainly won't omit That she genuinely contemplates giving up So why persist with obligations? Numerous faces look alike With fragile egos Their spirits departed And paths diverged Bearing the weight of the world on her shoulders I'd wager a million on her behalf For her battle, no arguments can Claim credit for being our inspiration Due to her age Vanity is no longer as pronounced Acting authentically And captivating a few thousand\")"
      ],
      "metadata": {
        "colab": {
          "base_uri": "https://localhost:8080/"
        },
        "id": "ODK-a0WO-deb",
        "outputId": "5d36c3d8-ab9d-4e41-8b0a-80dbbda09f00"
      },
      "execution_count": null,
      "outputs": [
        {
          "output_type": "stream",
          "name": "stdout",
          "text": [
            "Output of the model: [[0.00050486]]\n",
            "Predicted text GPT: negative\n"
          ]
        }
      ]
    },
    {
      "cell_type": "code",
      "source": [
        "get_prediction(\"A big woman. So a month goes by With no one wanting to know what she did Completing what he didn't remake With your feelings in short supply Crying out for help from heaven So as not to go crazy and become a defendant Put your plans on a sheet of paper Thus building yet another tower of Babel I must not lie And much less omit That she really wants to give up So why insist on obligations? So many similar faces With your glass egos Having your spirit gone And their divided paths Carrying a world on your back For her I would make a million bets For her fight, there are no arguments that can Take the credit for being our inspiration Due to his age There is no longer so much vanity Acting naturally And enchanting a few thousand\")"
      ],
      "metadata": {
        "id": "1ebxWLcj-ilI",
        "outputId": "5588dd2c-f934-4afb-9754-390ef05ca197",
        "colab": {
          "base_uri": "https://localhost:8080/"
        }
      },
      "execution_count": null,
      "outputs": [
        {
          "output_type": "stream",
          "name": "stdout",
          "text": [
            "Output of the model: [[0.00049525]]\n",
            "Predicted text GPT: negative\n"
          ]
        }
      ]
    },
    {
      "cell_type": "code",
      "execution_count": null,
      "metadata": {
        "colab": {
          "base_uri": "https://localhost:8080/"
        },
        "id": "9fAZLGq6qjYJ",
        "outputId": "1f3b2701-35e5-4d08-e68a-29f4bca6d0a4"
      },
      "outputs": [
        {
          "name": "stdout",
          "output_type": "stream",
          "text": [
            "Output of the model: [[0.89236397]]\n",
            "Predicted text GPT: positive\n"
          ]
        }
      ],
      "source": [
        "get_predictions_portugues(\"No campo do aprendizado de máquina, discutimos os desafios enfrentados na construção de modelos robustos e escaláveis, bem como questões éticas relacionadas à interpretabilidade e equidade dos algoritmos. Na visão computacional, examinamos os avanços recentes na detecção e reconhecimento de objetos, bem como os obstáculos remanescentes na compreensão de contextos complexos e cenários dinâmicos. Em relação ao processamento de linguagem natural, investigamos as limitações atuais na compreensão semântica e na geração de texto coerente, além das implicações éticas do uso de modelos de linguagem de grande escala.\")"
      ]
    },
    {
      "cell_type": "code",
      "execution_count": null,
      "metadata": {
        "colab": {
          "base_uri": "https://localhost:8080/"
        },
        "id": "nRyksZMrQsrT",
        "outputId": "1d3a9fac-5e47-4075-f747-e35e87e365af"
      },
      "outputs": [
        {
          "output_type": "stream",
          "name": "stdout",
          "text": [
            "Output of the model: [[0.89236397]]\n",
            "Predicted text GPT: positive\n"
          ]
        }
      ],
      "source": [
        "get_predictions_portugues(\"No campo do aprendizado de máquina, discutimos os desafios enfrentados na construção de modelos robustos e escaláveis, bem como questões éticas relacionadas à interpretabilidade e equidade dos algoritmos. Na visão computacional, examinamos os avanços recentes na detecção e reconhecimento de objetos, bem como os obstáculos remanescentes na compreensão de contextos complexos e cenários dinâmicos. Em relação ao processamento de linguagem natural, investigamos as limitações atuais na compreensão semântica e na geração de texto coerente, além das implicações éticas do uso de modelos de linguagem de grande escala.\")"
      ]
    },
    {
      "cell_type": "code",
      "execution_count": null,
      "metadata": {
        "colab": {
          "base_uri": "https://localhost:8080/"
        },
        "id": "VpTH_Ux6ufb8",
        "outputId": "aa2f2c65-19db-4226-8575-90c0df310815"
      },
      "outputs": [
        {
          "name": "stdout",
          "output_type": "stream",
          "text": [
            "Output of the model: [[0.89236385]]\n",
            "Predicted text GPT: positive\n"
          ]
        }
      ],
      "source": [
        "get_predictions_portugues(\"No campo do aprendizado de máquina, discutimos os desafios enfrentados na construção de modelos robustos e escaláveis, bem como questões éticas relacionadas à interpretabilidade e equidade dos algoritmos. Na visão computacional, examinamos os avanços recentes na detecção e reconhecimento de objetos, bem como os obstáculos remanescentes na compreensão de contextos complexos e cenários dinâmicos. Em relação ao processamento de linguagem natural, investigamos as limitações atuais na compreensão semântica e na geração de texto coerente, além das implicações éticas do uso de modelos de linguagem de grande escala.\")"
      ]
    },
    {
      "cell_type": "code",
      "source": [
        "get_predictions_portugues(\"No campo do aprendizado de máquina, discutimos os desafios enfrentados na construção de modelos robustos e escaláveis, bem como questões éticas relacionadas à interpretabilidade e equidade dos algoritmos. Na visão computacional, examinamos os avanços recentes na detecção e reconhecimento de objetos, bem como os obstáculos remanescentes na compreensão de contextos complexos e cenários dinâmicos. Em relação ao processamento de linguagem natural, investigamos as limitações atuais na compreensão semântica e na geração de texto coerente, além das implicações éticas do uso de modelos de linguagem de grande escala.\")"
      ],
      "metadata": {
        "colab": {
          "base_uri": "https://localhost:8080/"
        },
        "id": "aoW4vA12-iYt",
        "outputId": "44f60917-4cb2-4b0c-a691-bfc1f7106708"
      },
      "execution_count": null,
      "outputs": [
        {
          "output_type": "stream",
          "name": "stdout",
          "text": [
            "Output of the model: [[0.8923639]]\n",
            "Predicted text GPT: positive\n"
          ]
        }
      ]
    },
    {
      "cell_type": "code",
      "execution_count": null,
      "metadata": {
        "colab": {
          "base_uri": "https://localhost:8080/"
        },
        "id": "X-GpKKJVRPTu",
        "outputId": "d9217238-5c4b-45fc-ce38-80a1797902d4"
      },
      "outputs": [
        {
          "name": "stdout",
          "output_type": "stream",
          "text": [
            "Output of the model: [[0.892364]]\n",
            "Predicted text GPT: positive\n"
          ]
        }
      ],
      "source": [
        "get_predictions_portugues(\"No campo do aprendizado de máquina, discutimos os desafios enfrentados na construção de modelos robustos e escaláveis, bem como questões éticas relacionadas à interpretabilidade e equidade dos algoritmos. Na visão computacional, examinamos os avanços recentes na detecção e reconhecimento de objetos, bem como os obstáculos remanescentes na compreensão de contextos complexos e cenários dinâmicos. Em relação ao processamento de linguagem natural, investigamos as limitações atuais na compreensão semântica e na geração de texto coerente, além das implicações éticas do uso de modelos de linguagem de grande escala.\")"
      ]
    },
    {
      "cell_type": "code",
      "execution_count": null,
      "metadata": {
        "colab": {
          "base_uri": "https://localhost:8080/"
        },
        "id": "WhdNBADTQwDs",
        "outputId": "531009de-8458-4129-dfdf-eeb1fb7c4dca"
      },
      "outputs": [
        {
          "name": "stdout",
          "output_type": "stream",
          "text": [
            "Output of the model: [[0.892364]]\n",
            "Predicted text GPT: positive\n"
          ]
        }
      ],
      "source": [
        "get_predictions_portugues(\"No campo do aprendizado de máquina, discutimos os desafios enfrentados na construção de modelos robustos e escaláveis, bem como questões éticas relacionadas à interpretabilidade e equidade dos algoritmos. Na visão computacional, examinamos os avanços recentes na detecção e reconhecimento de objetos, bem como os obstáculos remanescentes na compreensão de contextos complexos e cenários dinâmicos. Em relação ao processamento de linguagem natural, investigamos as limitações atuais na compreensão semântica e na geração de texto coerente, além das implicações éticas do uso de modelos de linguagem de grande escala.\")"
      ]
    },
    {
      "cell_type": "code",
      "execution_count": null,
      "metadata": {
        "colab": {
          "base_uri": "https://localhost:8080/"
        },
        "id": "Vr2xl3dRigWt",
        "outputId": "d21aebaf-2f1a-425f-e7c8-a9e569baded0"
      },
      "outputs": [
        {
          "name": "stdout",
          "output_type": "stream",
          "text": [
            "Output of the model: [[0.9667361]]\n",
            "Predicted text GPT: positive\n"
          ]
        }
      ],
      "source": [
        "get_prediction(\"In the field of machine learning, we discuss the challenges faced in building robust and scalable models, as well as ethical issues related to interpretability and fairness of algorithms. In computer vision, we examine recent advancements in object detection and recognition, as well as the remaining obstacles in understanding complex contexts and dynamic scenarios. Regarding natural language processing, we investigate current limitations in semantic understanding and coherent text generation, along with the ethical implications of using large-scale language models.\")"
      ]
    },
    {
      "cell_type": "code",
      "execution_count": null,
      "metadata": {
        "colab": {
          "base_uri": "https://localhost:8080/"
        },
        "id": "2F7ujHHqWQGB",
        "outputId": "5cb1297f-45df-41df-fc8a-a55cfdc4cf83"
      },
      "outputs": [
        {
          "name": "stdout",
          "output_type": "stream",
          "text": [
            "Output of the model: [[0.966736]]\n",
            "Predicted text GPT: positive\n"
          ]
        }
      ],
      "source": [
        "get_prediction(\"In the field of machine learning, we discuss the challenges faced in building robust and scalable models, as well as ethical issues related to interpretability and fairness of algorithms. In computer vision, we examine recent advancements in object detection and recognition, as well as the remaining obstacles in understanding complex contexts and dynamic scenarios. Regarding natural language processing, we investigate current limitations in semantic understanding and coherent text generation, along with the ethical implications of using large-scale language models.\")"
      ]
    },
    {
      "cell_type": "code",
      "execution_count": null,
      "metadata": {
        "colab": {
          "base_uri": "https://localhost:8080/"
        },
        "id": "oZRTUD_2sI3y",
        "outputId": "71145327-48a0-4370-ecf5-21f4b44c5284"
      },
      "outputs": [
        {
          "name": "stdout",
          "output_type": "stream",
          "text": [
            "Output of the model: [[0.9667361]]\n",
            "Predicted text GPT: positive\n"
          ]
        }
      ],
      "source": [
        "get_prediction(\"In the field of machine learning, we discuss the challenges faced in building robust and scalable models, as well as ethical issues related to interpretability and fairness of algorithms. In computer vision, we examine recent advancements in object detection and recognition, as well as the remaining obstacles in understanding complex contexts and dynamic scenarios. Regarding natural language processing, we investigate current limitations in semantic understanding and coherent text generation, along with the ethical implications of using large-scale language models.\")"
      ]
    },
    {
      "cell_type": "code",
      "execution_count": null,
      "metadata": {
        "colab": {
          "base_uri": "https://localhost:8080/"
        },
        "id": "kzp3EU3PuuE4",
        "outputId": "ee0ca943-f82e-449d-d1e2-42620fb64e2d"
      },
      "outputs": [
        {
          "name": "stdout",
          "output_type": "stream",
          "text": [
            "Output of the model: [[0.9950642]]\n",
            "Predicted text GPT: positive\n"
          ]
        }
      ],
      "source": [
        "get_prediction(\"Global warming, a consequence of anthropogenic activities, poses significant threats to ecosystems and human society. This paper synthesizes current research to elucidate the multifaceted impacts of global warming, focusing on its effects on ecosystems, biodiversity, weather patterns, and human health. The evidence overwhelmingly supports the conclusion that human-induced climate change is exacerbating environmental degradation, leading to biodiversity loss, extreme weather events, rising sea levels, and altered precipitation patterns. Moreover, the implications for human health are profound, with increased incidence of heat-related illnesses, vector-borne diseases, and food insecurity. Mitigation strategies, including reducing greenhouse gas emissions, transitioning to renewable energy sources, and implementing adaptive measures, are imperative to mitigate the adverse effects of global warming and safeguard the planet for future generations.\")"
      ]
    },
    {
      "cell_type": "code",
      "execution_count": null,
      "metadata": {
        "colab": {
          "base_uri": "https://localhost:8080/"
        },
        "id": "Kpug9D-euylz",
        "outputId": "b469034e-08bb-4da7-bd77-b45c51f3c0e9"
      },
      "outputs": [
        {
          "name": "stdout",
          "output_type": "stream",
          "text": [
            "Output of the model: [[0.97711176]]\n",
            "Predicted text GPT: positive\n"
          ]
        }
      ],
      "source": [
        "get_prediction(\"Global warming has profound implications for terrestrial and aquatic ecosystems, disrupting key ecological processes and endangering biodiversity. Rising temperatures alter species distributions, disrupt phenological cycles, and exacerbate habitat loss, leading to shifts in species composition and ecosystem functioning. Coral reefs, among the most biodiverse ecosystems on the planet, are particularly vulnerable to the effects of global warming, with widespread coral bleaching events and ecosystem collapse observed in recent decades. Furthermore, changes in temperature and precipitation patterns affect ecosystem services, such as water provision, pollination, and carbon sequestration, with far-reaching consequences for human well-being.\")"
      ]
    },
    {
      "cell_type": "code",
      "execution_count": null,
      "metadata": {
        "colab": {
          "base_uri": "https://localhost:8080/"
        },
        "id": "Sd_XHNmDu68A",
        "outputId": "5ddaf647-a2f6-42eb-ff7a-71807d5d6d2a"
      },
      "outputs": [
        {
          "name": "stdout",
          "output_type": "stream",
          "text": [
            "Output of the model: [[0.995624]]\n",
            "Predicted text GPT: positive\n"
          ]
        }
      ],
      "source": [
        "get_predictions_portugues(\"O aquecimento global, uma consequência das atividades antropogênicas, apresenta ameaças significativas aos ecossistemas e à sociedade humana. Este artigo sintetiza pesquisas atuais para elucidar os impactos multifacetados do aquecimento global, focando em seus efeitos nos ecossistemas, biodiversidade, padrões climáticos e saúde humana. As evidências sustentam de forma avassaladora a conclusão de que a mudança climática induzida pelo homem está exacerbando a degradação ambiental, levando à perda de biodiversidade, eventos climáticos extremos, aumento do nível do mar e padrões de precipitação alterados. Além disso, as implicações para a saúde humana são profundas, com o aumento da incidência de doenças relacionadas ao calor, doenças transmitidas por vetores e insegurança alimentar. Estratégias de mitigação, incluindo a redução das emissões de gases de efeito estufa, transição para fontes de energia renovável e implementação de medidas adaptativas, são imperativas para mitigar os efeitos adversos do aquecimento global e proteger o planeta para as gerações futuras.\")"
      ]
    },
    {
      "cell_type": "code",
      "execution_count": null,
      "metadata": {
        "colab": {
          "base_uri": "https://localhost:8080/"
        },
        "id": "i0D4KccrvLeJ",
        "outputId": "b239c5f6-15fc-4446-c264-c0fb71d1683f"
      },
      "outputs": [
        {
          "name": "stdout",
          "output_type": "stream",
          "text": [
            "Output of the model: [[0.99829143]]\n",
            "Predicted text GPT: positive\n"
          ]
        }
      ],
      "source": [
        "get_prediction(\"Mitigating the impacts of global warming requires urgent and coordinated action at local, national, and global levels. Transitioning to renewable energy sources, such as solar and wind power, is essential to reduce greenhouse gas emissions and mitigate climate change. Additionally, reforestation and afforestation efforts can enhance carbon sequestration and biodiversity conservation. Adaptation measures, including improved infrastructure, early warning systems, and sustainable land management practices, are also crucial to build resilience to climate impacts. However, effective climate action requires political will, financial investment, and international cooperation to address the root causes of global warming and ensure a sustainable future for all.\")"
      ]
    },
    {
      "cell_type": "code",
      "execution_count": null,
      "metadata": {
        "colab": {
          "base_uri": "https://localhost:8080/"
        },
        "id": "HNJ4ruRfmEFx",
        "outputId": "9a8597ef-e935-489d-de71-9de3b08bd9fe"
      },
      "outputs": [
        {
          "output_type": "stream",
          "name": "stdout",
          "text": [
            "Selecione o idioma do texto original:\n",
            "1. Português\n",
            "2. Inglês\n",
            "Escolha uma opção (1/2): 1\n",
            "Digite o texto: Aleki comeu cu de curioso\n",
            "Output of the model: [[0.06037956]]\n",
            "Predicted text GPT: negative\n"
          ]
        }
      ],
      "source": [
        "from googletrans import Translator\n",
        "\n",
        "def get_predictions():\n",
        "    print(\"Selecione o idioma do texto original:\")\n",
        "    print(\"1. Português\")\n",
        "    print(\"2. Inglês\")\n",
        "    choice = input(\"Escolha uma opção (1/2): \")\n",
        "\n",
        "    source_language = 'pt' if choice == '1' else 'en'\n",
        "\n",
        "    sentence = input(\"Digite o texto: \")\n",
        "\n",
        "    translator = Translator()\n",
        "    translated_sentence = translator.translate(sentence, src=source_language, dest='en').text\n",
        "\n",
        "    tokens = encode_sentence(translated_sentence)\n",
        "\n",
        "    input_ids = get_ids(tokens)\n",
        "    input_mask = get_mask(tokens)\n",
        "    segment_ids = get_segments(tokens)\n",
        "\n",
        "    inputs = tf.stack(\n",
        "        [\n",
        "            tf.cast(input_ids, dtype=tf.int32),\n",
        "            tf.cast(input_mask, dtype=tf.int32),\n",
        "            tf.cast(segment_ids, dtype=tf.int32),\n",
        "        ], axis=0)\n",
        "    inputs = tf.expand_dims(inputs, 0)\n",
        "\n",
        "    output = Dcnn(inputs, training=False)\n",
        "\n",
        "    sentiment = math.floor(output * 2)\n",
        "\n",
        "    if sentiment == 0:\n",
        "        print(\"Output of the model: {}\\nPredicted text GPT: negative\".format(output))\n",
        "    elif sentiment == 1:\n",
        "        print(\"Output of the model: {}\\nPredicted text GPT: positive\".format(output))\n",
        "\n",
        "get_predictions()"
      ]
    },
    {
      "cell_type": "code",
      "execution_count": null,
      "metadata": {
        "colab": {
          "base_uri": "https://localhost:8080/"
        },
        "id": "HBVppQdmRqBp",
        "outputId": "0f6172f2-daf1-4f4f-f3b3-4e9abea27dc1"
      },
      "outputs": [
        {
          "output_type": "stream",
          "name": "stdout",
          "text": [
            "Selecione o idioma do texto original:\n",
            "1. Português\n",
            "2. Inglês\n",
            "Escolha uma opção (1/2): 1\n",
            "Digite o texto: estou numa casa (a minha antiga), meu irmão endoida achando q tem gente tentando matar ele, depois de calmo, é hora de ir pra praia passar o ano novo. Na primeira eu fico com um pessoal q eu não realmente conheço, pergunta pra uma delas oq vamos beber e ela me estranha, pergunto pro meu primo se tem daquele whisky que bebemos no último ano novo e percebo q tá cedo demais pra um outro réveillon. Começo andar pela praia tendo um panorama do lugar e percebo como ninguém está lá para comemorar a virada de ano - e usam alguma vestimenta amarela - acho meu amigo e choro percebendo como ninguém me escuta - até minha mãe - e tomo conta da minha situação. Após isso tento fugir e quando saio da praia vejo um mundo pós apocalíptico onde um (fungo) tomo conta e os infectados se isolam\n",
            "Output of the model: [[0.02298404]]\n",
            "Predicted text GPT: negative\n"
          ]
        }
      ],
      "source": [
        "from googletrans import Translator\n",
        "\n",
        "def get_predictions():\n",
        "    print(\"Selecione o idioma do texto original:\")\n",
        "    print(\"1. Português\")\n",
        "    print(\"2. Inglês\")\n",
        "    choice = input(\"Escolha uma opção (1/2): \")\n",
        "\n",
        "    source_language = 'pt' if choice == '1' else 'en'\n",
        "\n",
        "    sentence = input(\"Digite o texto: \")\n",
        "\n",
        "    translator = Translator()\n",
        "    translated_sentence = translator.translate(sentence, src=source_language, dest='en').text\n",
        "\n",
        "    tokens = encode_sentence(translated_sentence)\n",
        "\n",
        "    input_ids = get_ids(tokens)\n",
        "    input_mask = get_mask(tokens)\n",
        "    segment_ids = get_segments(tokens)\n",
        "\n",
        "    inputs = tf.stack(\n",
        "        [\n",
        "            tf.cast(input_ids, dtype=tf.int32),\n",
        "            tf.cast(input_mask, dtype=tf.int32),\n",
        "            tf.cast(segment_ids, dtype=tf.int32),\n",
        "        ], axis=0)\n",
        "    inputs = tf.expand_dims(inputs, 0)\n",
        "\n",
        "    output = Dcnn(inputs, training=False)\n",
        "\n",
        "    sentiment = math.floor(output * 2)\n",
        "\n",
        "    if sentiment == 0:\n",
        "        print(\"Output of the model: {}\\nPredicted text GPT: negative\".format(output))\n",
        "    elif sentiment == 1:\n",
        "        print(\"Output of the model: {}\\nPredicted text GPT: positive\".format(output))\n",
        "\n",
        "get_predictions()"
      ]
    },
    {
      "cell_type": "code",
      "execution_count": null,
      "metadata": {
        "colab": {
          "base_uri": "https://localhost:8080/"
        },
        "id": "UtRoAIzMV-NZ",
        "outputId": "6dd77f61-6d81-4f0b-d3bf-bcb6dbc92dd5"
      },
      "outputs": [
        {
          "output_type": "stream",
          "name": "stdout",
          "text": [
            "Selecione o idioma do texto original:\n",
            "1. Português\n",
            "2. Inglês\n",
            "Escolha uma opção (1/2): 1\n",
            "Digite o texto: estou numa casa (a minha antiga), meu irmão endoida achando q tem gente tentando matar ele, depois de calmo, é hora de ir pra praia passar o ano novo. Na primeira eu fico com um pessoal q eu não realmente conheço, pergunta pra uma delas oq vamos beber e ela me estranha, pergunto pro meu primo se tem daquele whisky que bebemos no último ano novo e percebo q tá cedo demais pra um outro réveillon. Começo andar pela praia tendo um panorama do lugar e percebo como ninguém está lá para comemorar a virada de ano - e usam alguma vestimenta amarela - acho meu amigo e choro percebendo como ninguém me escuta - até minha mãe - e tomo conta da minha situação. Após isso tento fugir e quando saio da praia vejo um mundo pós apocalíptico onde um (fungo) tomo conta e os infectados se isolam\n",
            "Output of the model: [[0.02298404]]\n",
            "Predicted text GPT: negative\n"
          ]
        }
      ],
      "source": [
        "from googletrans import Translator\n",
        "\n",
        "def get_predictions():\n",
        "    print(\"Selecione o idioma do texto original:\")\n",
        "    print(\"1. Português\")\n",
        "    print(\"2. Inglês\")\n",
        "    choice = input(\"Escolha uma opção (1/2): \")\n",
        "\n",
        "    source_language = 'pt' if choice == '1' else 'en'\n",
        "\n",
        "    sentence = input(\"Digite o texto: \")\n",
        "\n",
        "    translator = Translator()\n",
        "    translated_sentence = translator.translate(sentence, src=source_language, dest='en').text\n",
        "\n",
        "    tokens = encode_sentence(translated_sentence)\n",
        "\n",
        "    input_ids = get_ids(tokens)\n",
        "    input_mask = get_mask(tokens)\n",
        "    segment_ids = get_segments(tokens)\n",
        "\n",
        "    inputs = tf.stack(\n",
        "        [\n",
        "            tf.cast(input_ids, dtype=tf.int32),\n",
        "            tf.cast(input_mask, dtype=tf.int32),\n",
        "            tf.cast(segment_ids, dtype=tf.int32),\n",
        "        ], axis=0)\n",
        "    inputs = tf.expand_dims(inputs, 0)\n",
        "\n",
        "    output = Dcnn(inputs, training=False)\n",
        "\n",
        "    sentiment = math.floor(output * 2)\n",
        "\n",
        "    if sentiment == 0:\n",
        "        print(\"Output of the model: {}\\nPredicted text GPT: negative\".format(output))\n",
        "    elif sentiment == 1:\n",
        "        print(\"Output of the model: {}\\nPredicted text GPT: positive\".format(output))\n",
        "\n",
        "get_predictions()"
      ]
    }
  ],
  "metadata": {
    "accelerator": "TPU",
    "colab": {
      "machine_shape": "hm",
      "toc_visible": true,
      "provenance": []
    },
    "kernelspec": {
      "display_name": "Python 3",
      "name": "python3"
    },
    "language_info": {
      "name": "python"
    }
  },
  "nbformat": 4,
  "nbformat_minor": 0
}